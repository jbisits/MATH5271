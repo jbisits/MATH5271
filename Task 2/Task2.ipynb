{
 "cells": [
  {
   "cell_type": "markdown",
   "metadata": {},
   "source": [
    "# Task two\n",
    "\n",
    "In task two we are looking at Pacific Sea Surface Temperature (SST) and local forecasts.\n",
    "The two datasets we will be using for this are:\n",
    "\n",
    "* the global SST data used in week four (1960-2016)\n",
    "* the SST data recoreded at at Port Vila (Vanuatu) between 1993 and 2021.\n",
    "\n",
    "We will predominantly use pricipal component analysis to develop a model based on a subset of the global SST data.\n",
    "The subset of global SST data used will be of the Pacific region that includes the station I have chosed (Port Vila Vanuatu)\n",
    "To test the PC model we then try and predict the temperature recorded at the location chosen in the Pacific region and compare the outputs with the recorded data.\n",
    "\n",
    "## Part one\n",
    "\n",
    "First we analyse the data from the global SST data.\n",
    "This data is **describe data here**.\n",
    "Julia has a few things similar to python's `xarray`.\n",
    "Here I am going to use th `ClimateBase.jl` package which forms a `ClimArray` to store the data in.\n",
    "It (nor any of the other julia packages) has the full functionality of `xarray`."
   ]
  },
  {
   "cell_type": "code",
   "execution_count": 5,
   "metadata": {},
   "outputs": [
    {
     "name": "stdout",
     "output_type": "stream",
     "text": [
      "\u001b[32m\u001b[1m  Activating\u001b[22m\u001b[39m environment at `~/Documents/GitHub/MATH5271/Project.toml`\n"
     ]
    }
   ],
   "source": [
    "using Pkg\n",
    "Pkg.activate(\"..\")\n",
    "using ClimateBase, Plots, Statistics, Glob, Dates, GeoData, NCDatasets"
   ]
  },
  {
   "cell_type": "code",
   "execution_count": 7,
   "metadata": {},
   "outputs": [
    {
     "data": {
      "text/plain": [
       "3-element Vector{Any}:\n",
       " \"lat\"\n",
       " \"lon\"\n",
       " \"time\""
      ]
     },
     "metadata": {},
     "output_type": "display_data"
    }
   ],
   "source": [
    "SST_datapath = joinpath(\"../..\", \"globalSST/sst\")\n",
    "globalSST_data = glob(joinpath(SST_datapath, \"*.nc\"))\n",
    "globalSST_file = NCDataset(globalSST_data; aggdim = \"time\")\n",
    "keys(globalSST_file.dim)\n",
    "#=\n",
    "lat = 0:2:88\n",
    "lon = 0:2:358\n",
    "t = Date(1960, 1, 15):Month(1):Date(2016, 12, 15)\n",
    "dimensions = ( Lon(lon), Lat(lat), Time(t))\n",
    "=#\n",
    "#dimensions = ( Lon(globalSST_file[\"lon\"]), Lat(globalSST_file[\"lat\"]), Time(globalSST_file[\"time\"]))\n",
    "#SSTglobal = ClimArray(globalSST_file[\"sst\"], dimensions)\n"
   ]
  }
 ],
 "metadata": {
  "kernelspec": {
   "display_name": "Julia 1.6.3",
   "language": "julia",
   "name": "julia-1.6"
  },
  "language_info": {
   "file_extension": ".jl",
   "mimetype": "application/julia",
   "name": "julia",
   "version": "1.6.3"
  },
  "orig_nbformat": 4
 },
 "nbformat": 4,
 "nbformat_minor": 2
}
