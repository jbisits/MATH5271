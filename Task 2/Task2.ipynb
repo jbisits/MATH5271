{
 "cells": [
  {
   "cell_type": "markdown",
   "metadata": {},
   "source": [
    "# Task two\n",
    "\n",
    "In task two we are looking at Pacific Sea Surface Temperature (SST) and local forecasts.\n",
    "The two datasets we will be using for this are:\n",
    "\n",
    "* the global SST data used in week four (1960-2016)\n",
    "* the SST data recoreded at at Port Vila (Vanuatu) between 1993 and 2021.\n",
    "\n",
    "We will predominantly use pricipal component analysis to develop a model based on a subset of the global SST data.\n",
    "The subset of global SST data used will be of the Pacific region that includes the station I have chosed (Port Vila Vanuatu)\n",
    "To test the PC model we then try and predict the temperature recorded at the location chosen in the Pacific region and compare the outputs with the recorded data.\n",
    "\n",
    "## Part one\n",
    "\n",
    "First we analyse the data from the global SST data.\n",
    "This data is **describe data here**.\n",
    "Julia has a few things similar to python's `xarray`.\n",
    "Here I am going to use th `ClimateBase.jl` package which forms a `ClimArray` to store the data in.\n",
    "It (nor any of the other julia packages) has the full functionality of `xarray`."
   ]
  },
  {
   "cell_type": "code",
   "execution_count": 20,
   "metadata": {},
   "outputs": [
    {
     "name": "stdout",
     "output_type": "stream",
     "text": [
      "\u001b[32m\u001b[1m  Activating\u001b[22m\u001b[39m environment at `~/Documents/GitHub/MATH5271/Project.toml`\n"
     ]
    }
   ],
   "source": [
    "using Pkg\n",
    "Pkg.activate(\"..\")\n",
    "using #=ClimateBase,=# Plots, Statistics, Glob, Dates, GeoData, NCDatasets"
   ]
  },
  {
   "cell_type": "code",
   "execution_count": 18,
   "metadata": {},
   "outputs": [
    {
     "data": {
      "text/plain": [
       "3-element Vector{Any}:\n",
       " \"lat\"\n",
       " \"lon\"\n",
       " \"time\""
      ]
     },
     "metadata": {},
     "output_type": "display_data"
    }
   ],
   "source": [
    "SST_datapath = joinpath(\"../..\", \"globalSST/sst\")\n",
    "globalSST_data = glob(joinpath(SST_datapath, \"*.nc\"))\n",
    "globalSST_file = NCDataset(globalSST_data; aggdim = \"time\")\n",
    "keys(globalSST_file.dim)\n",
    "#=\n",
    "lat = 0:2:88\n",
    "lon = 0:2:358\n",
    "t = Date(1960, 1, 15):Month(1):Date(2016, 12, 15)\n",
    "dimensions = ( Lon(lon), Lat(lat), Time(t))\n",
    "=#\n",
    "#dimensions = ( Lon(globalSST_file[\"lon\"]), Lat(globalSST_file[\"lat\"]), Time(globalSST_file[\"time\"]))\n",
    "#SSTglobal = ClimArray(globalSST_file[\"sst\"], dimensions)\n"
   ]
  },
  {
   "cell_type": "code",
   "execution_count": 21,
   "metadata": {},
   "outputs": [
    {
     "ename": "MethodError",
     "evalue": "MethodError: no method matching GeoArray(::String)\nClosest candidates are:\n  GeoArray(!Matched::AbstractGeoArray; data, dims, refdims, name, metadata, missingval) at /Users/Joey/.julia/packages/GeoData/XA5SS/src/array.jl:212\n  GeoArray(!Matched::AbstractArray; dims, refdims, name, metadata, missingval) at /Users/Joey/.julia/packages/GeoData/XA5SS/src/array.jl:207\n  GeoArray(!Matched::AbstractArray, !Matched::Tuple; refdims, name, metadata, missingval) at /Users/Joey/.julia/packages/GeoData/XA5SS/src/array.jl:202\n  ...",
     "output_type": "error",
     "traceback": [
      "\n",
      "Stacktrace:\n",
      "  [1] top-level scope\n",
      "    @ ~/Documents/GitHub/MATH5271/Task 2/Task2.ipynb:3\n",
      "  [2] eval\n",
      "    @ ./boot.jl:360 [inlined]\n",
      "  [3] include_string(mapexpr::typeof(REPL.softscope), mod::Module, code::String, filename::String)\n",
      "    @ Base ./loading.jl:1116\n",
      "  [4] #invokelatest#2\n",
      "    @ ./essentials.jl:708 [inlined]\n",
      "  [5] invokelatest\n",
      "    @ ./essentials.jl:706 [inlined]\n",
      "  [6] (::VSCodeServer.var\"#98#99\"{VSCodeServer.NotebookRunCellArguments, String})()\n",
      "    @ VSCodeServer ~/.vscode/extensions/julialang.language-julia-1.4.3/scripts/packages/VSCodeServer/src/serve_notebook.jl:18\n",
      "  [7] withpath(f::VSCodeServer.var\"#98#99\"{VSCodeServer.NotebookRunCellArguments, String}, path::String)\n",
      "    @ VSCodeServer ~/.vscode/extensions/julialang.language-julia-1.4.3/scripts/packages/VSCodeServer/src/repl.jl:185\n",
      "  [8] notebook_runcell_request(conn::VSCodeServer.JSONRPC.JSONRPCEndpoint{Base.PipeEndpoint, Base.PipeEndpoint}, params::VSCodeServer.NotebookRunCellArguments)\n",
      "    @ VSCodeServer ~/.vscode/extensions/julialang.language-julia-1.4.3/scripts/packages/VSCodeServer/src/serve_notebook.jl:14\n",
      "  [9] dispatch_msg(x::VSCodeServer.JSONRPC.JSONRPCEndpoint{Base.PipeEndpoint, Base.PipeEndpoint}, dispatcher::VSCodeServer.JSONRPC.MsgDispatcher, msg::Dict{String, Any})\n",
      "    @ VSCodeServer.JSONRPC ~/.vscode/extensions/julialang.language-julia-1.4.3/scripts/packages/JSONRPC/src/typed.jl:67\n",
      " [10] serve_notebook(pipename::String; crashreporting_pipename::String)\n",
      "    @ VSCodeServer ~/.vscode/extensions/julialang.language-julia-1.4.3/scripts/packages/VSCodeServer/src/serve_notebook.jl:94\n",
      " [11] top-level scope\n",
      "    @ ~/.vscode/extensions/julialang.language-julia-1.4.3/scripts/notebook/notebook.jl:10\n",
      " [12] include(mod::Module, _path::String)\n",
      "    @ Base ./Base.jl:386\n",
      " [13] exec_options(opts::Base.JLOptions)\n",
      "    @ Base ./client.jl:285\n",
      " [14] _start()\n",
      "    @ Base ./client.jl:485"
     ]
    }
   ],
   "source": [
    "url = \"https://www.unidata.ucar.edu/software/netcdf/examples/tos_O1_2001-2002.nc\";\n",
    "filename = download(url, \"tos_O1_2001-2002.nc\");\n",
    "A = GeoArray(filename)"
   ]
  }
 ],
 "metadata": {
  "kernelspec": {
   "display_name": "Julia 1.6.3",
   "language": "julia",
   "name": "julia-1.6"
  },
  "language_info": {
   "file_extension": ".jl",
   "mimetype": "application/julia",
   "name": "julia",
   "version": "1.6.3"
  },
  "orig_nbformat": 4
 },
 "nbformat": 4,
 "nbformat_minor": 2
}
