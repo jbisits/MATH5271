{
  "cells": [
    {
      "cell_type": "markdown",
      "metadata": {
        "id": "pumJKWaN_KQp"
      },
      "source": [
        "# MATH5271 Lab 5\n",
        "\n",
        "# Statistical Forecasting\n",
        "\n",
        "Welcome to the 5th MATH5271 lab session. In this lab we will discuss Statistical Forecasting. By the end of this lab you should be able to:\n",
        "\n",
        "- Do simple linear regression and visualise results;\n",
        "- Load and interogate a both Burau of of Meteorology station data and 2D numerical weather prediction (NWP) surface air temperature data;\n",
        "- Develop a Model Output Statistics (MOS) model to relate the two.\n",
        "\n",
        "## Google Colaboratory\n",
        "\n",
        "We will run the python labs in [Google Colaboratory](colab.research.google.com). Google Colab is a web-based computational environment in which you can read, write, and execute interactive *notebooks* like the one you are reading. The python code runs on a virtual machine in the cloud, so you don't need to install python on your local machine. \n",
        "\n",
        "Before you begin the lab, you will need to [sign up](https://accounts.google.com/signup) for a free Google account. If you do not wish to sign up for a Google account, that's fine: you will still be able to read through the lab. You just won't be able to make edits or run any code. \n",
        "\n",
        "## Colaboratory and Google Drive\n",
        "\n",
        "If you have a Google account, you can mount your Google drive within the Colab environment by copying and pasting the code below into a new cell (click \"+ Code\"). This is not required to run the lab (figures and movies will be saved to the Colab virtual machine and played in your browser). \n",
        "```\n",
        "from google.colab import drive\n",
        "drive.mount('/gdrive')\n",
        "!ln -s \"/gdrive/My Drive/\" \"/content/\"'\n",
        "```"
      ]
    },
    {
      "cell_type": "markdown",
      "metadata": {
        "id": "I1N5bw-kBB1e"
      },
      "source": [
        "## 1. Setup and Load Data\n",
        "\n",
        "Before we get started we need to ensure we have the appropriate 'libraries' are installed. You can think of these as opening a box of available tools. The .csv files we upload will be uploaded into a 'pandas' data frame. We will use the 'numpy' (numerical python) package to do some basic maths with the data and Matplotlib's 'pyplot' package to make some pretty graphs. \n",
        "\n",
        "In this lab we will also use xarray which is an extremely powerful and user frieldly tool for analysis of large multi-dimensional data sets. Here is a more in depth [tutorial](http://gallery.pangeo.io/repos/pangeo-data/pangeo-tutorial-gallery/xarray.html) just on xarray that I have built the second half of this lab from.\n",
        "\n",
        "There are many other packages and libraries avaialble freely in python. We will experiment with a few in this course but will only really scratch the surface. I will try to keep things as simple as possible so we can focus on understanding - rather than trouble shooting technical issues."
      ]
    },
    {
      "cell_type": "code",
      "execution_count": 1,
      "metadata": {
        "id": "CvkqAIxihwge"
      },
      "outputs": [],
      "source": [
        "# import libraries\n",
        "import pandas as pd\n",
        "import xarray as xr\n",
        "\n",
        "# Numerics\n",
        "import numpy as np\n",
        "\n",
        "# Plotting\n",
        "import matplotlib.pyplot as plt\n",
        "\n",
        "# plot figures in Colaboratory notebook\n",
        "%matplotlib inline"
      ]
    },
    {
      "cell_type": "markdown",
      "metadata": {
        "id": "b0euklFmVr_D"
      },
      "source": [
        "The first data set we look at will be example data table A1 from Wilks as we used in Lab 1.\n",
        "\n",
        "We will load the data table as a pandas 'DataFrame'. This is a 2-dimensional data structure that can store data of different types and has inbuilt operations (like calcualting statistics and doing basic plots)."
      ]
    },
    {
      "cell_type": "code",
      "execution_count": 2,
      "metadata": {
        "id": "0dAUuRx8l8CQ"
      },
      "outputs": [],
      "source": [
        "# Define the URL where the data set is stored\n",
        "TableA1_url = 'https://raw.githubusercontent.com/janzika/MATH5271/main/Wilks_TableA1.csv' \n",
        "\n",
        "# Import the data set as a Pandas Dataframe using the 'read_csv' function\n",
        "df1 = pd.read_csv(TableA1_url)"
      ]
    },
    {
      "cell_type": "markdown",
      "metadata": {
        "id": "eRUk8d37HNr6"
      },
      "source": [
        "## 2. Forecasting\n",
        "\n",
        "When forecasting, we aim to predict the value of a specific 'predictand' $y_i$, as a function of a set of predictors ${\\bf x}_i$ such that\n",
        "\n",
        "$$y_i = \\hat{y}({\\bf x}_i)+e_i.$$\n",
        "\n",
        "Above, $e_i$ is the error between the prediction and predictand and $\\hat{y}$ is designed so that $e_i$ is as small as possible. Although $e_i$ is (of course) unknown a priori, its statistical properties are of as much interest as the central prediction."
      ]
    },
    {
      "cell_type": "markdown",
      "metadata": {
        "id": "REaEFLU9vflL"
      },
      "source": [
        "### Linear Regression\n",
        "Perhaps the simplest example of a forecasting system is linear regression, where for one predictor $x_i$ we have\n",
        "\n",
        "$$ y_i = a + b x_i +  e_i.$$ \n",
        "\n",
        "In this case we can simply calculate the intercept $a$ and slope $b$ using\n",
        "\n",
        "$$ b = \\frac{\\sum_{i=1}^n \\left[ (x_i - \\overline{x})((y_i - \\overline{y})\\right]}{\\sum_{i=1}^n (x_i - \\overline{x})^2}$$\n",
        "\n",
        "and\n",
        "\n",
        "$$a = \\overline{y} - b \\overline{x}.$$\n",
        "\n",
        "This is guaranteed to minimise the mean of the square of the residuals \n",
        "\n",
        "$$ s_e^2 = \\frac{1}{n-2}\\sum_{i=1}^n e_i^2.$$\n",
        "\n",
        "Let's recreate this relationship based on Wilk's Ithaca and Canandaigua minimum temperatures.\n",
        "\n"
      ]
    },
    {
      "cell_type": "code",
      "execution_count": 5,
      "metadata": {
        "colab": {
          "base_uri": "https://localhost:8080/",
          "height": 300
        },
        "id": "5GLxOMoQRoiE",
        "outputId": "aed1fcc3-c8b8-40d7-9c56-484b9529ac2e"
      },
      "outputs": [
        {
          "data": {
            "text/plain": [
              "Text(0, 0.5, 'Canandaigua min. temp. ($y$, $^{\\\\circ}$F)')"
            ]
          },
          "execution_count": 5,
          "metadata": {},
          "output_type": "execute_result"
        },
        {
          "data": {
            "image/png": "[encoded data removed]",
            "text/plain": [
              "<Figure size 432x288 with 1 Axes>"
            ]
          },
          "metadata": {
            "needs_background": "light"
          },
          "output_type": "display_data"
        }
      ],
      "source": [
        "# Subset just the Ithaca and Canandaigua data and compute their anomalies\n",
        "idf = df1[df1['Location'].isin(['Ithaca'])]\n",
        "x = idf.MinTemp_Far.values\n",
        "cdf = df1[df1['Location'].isin(['Canandaigua'])]\n",
        "y = cdf.MinTemp_Far.values\n",
        "\n",
        "# Calculate n, b and a\n",
        "n = x.shape[0]\n",
        "b = (n*np.sum(x*y)-np.sum(x)*np.sum(y))\\\n",
        "/(n*np.sum(x**2)-((np.sum(x))**2))\n",
        "a = y.mean() - b*x.mean()\n",
        "# Determine the least squares guess at 'y' (the Canandaigua temperature)\n",
        "y_lr = a + b*x;\n",
        "\n",
        "# Make the plot using matplotlib (plt)\n",
        "plt.scatter(x,y)\n",
        "plt.plot(x,y_lr, color = \"orange\")\n",
        "plt.xlabel('Ithaca min. temp. ($x$, $^{\\circ}$F)')\n",
        "plt.ylabel('Canandaigua min. temp. ($y$, $^{\\circ}$F)')\n"
      ]
    },
    {
      "cell_type": "markdown",
      "metadata": {
        "id": "OEAzxCKAi2VA"
      },
      "source": [
        "This reveals the kind of relationship we were after. Now let's take a closer look at the uncertainty. \n",
        "\n",
        "The mean square of the resudials or MSE is often used as an estimate of the uncertainty but in fact we need to use the predcition variance which is\n",
        "\n",
        "$$ s^2_{\\hat{y}} = s_e^2\\left[ 1 + \\frac{1}{n} + \\frac{(x_0 - \\overline{x})^2}{\\sum_{i=1}^n(x_i - \\overline{x})^2}\\right].$$\n",
        "\n",
        "We can also determine the uncertainty in the fit line itself via the 'variance of the conditional mean'\n",
        "\n",
        "$$ s^2_{\\hat{y}|x_0} = s_e^2\\left[\\frac{1}{n} + \\frac{(x_0 - \\overline{x})^2}{\\sum_{i=1}^n(x_i - \\overline{x})^2}\\right].$$\n",
        "\n",
        "\n",
        "\n",
        "\n"
      ]
    },
    {
      "cell_type": "code",
      "execution_count": 10,
      "metadata": {
        "colab": {
          "base_uri": "https://localhost:8080/",
          "height": 304
        },
        "id": "ciVuecQvJ9sj",
        "outputId": "c5c2c905-d77e-4fe5-bb9f-3524b714d7f9"
      },
      "outputs": [
        {
          "data": {
            "text/plain": [
              "Text(0, 0.5, 'Canandaigua min. temp. ($y$, $^{\\\\circ}$F)')"
            ]
          },
          "execution_count": 10,
          "metadata": {},
          "output_type": "execute_result"
        },
        {
          "data": {
            "image/png": "[encoded data removed]",
            "text/plain": [
              "<Figure size 432x288 with 1 Axes>"
            ]
          },
          "metadata": {
            "needs_background": "light"
          },
          "output_type": "display_data"
        }
      ],
      "source": [
        "# Determine the mean square error, the prediciton variance and variance of the \n",
        "# conditional mean\n",
        "se2  = (1/(n-2))*sum((y-y_lr)**2)\n",
        "sy2 = se2*(1+ (1/n) + (x-x.mean())**2/(sum((x-x.mean())**2)))\n",
        "syx02 = se2*((1/n) + (x-x.mean())**2/(sum((x-x.mean())**2)))\n",
        "# Plot\n",
        "plt.scatter(x,y)\n",
        "plt.plot(x,y_lr, color = \"orange\")\n",
        "plt.plot(x,y_lr+1.96*np.sqrt(sy2),'k',x,y_lr-1.96*np.sqrt(sy2),'k')\n",
        "plt.plot(x,y_lr+1.96*np.sqrt(syx02),'k:',x,y_lr-1.96*np.sqrt(syx02),'k:')\n",
        "plt.xlabel('Ithaca min. temp. ($x$, $^{\\circ}$F)')\n",
        "plt.ylabel('Canandaigua min. temp. ($y$, $^{\\circ}$F)')"
      ]
    },
    {
      "cell_type": "markdown",
      "metadata": {
        "id": "ftxwGJYQIH8H"
      },
      "source": [
        "Moving to other forms of linear regression we can use some features of numpy to find the regressions coefficients.\n",
        "Here instead of using the single predictor to create a line (linear regression) we use predictor and **transforms** of the predictor.\n",
        "\n",
        "If we want to fit a polynomial of the form\n",
        "\n",
        "$$ y = b_0 + b_1 x +  b_2 x^2 + ... + b_K x^K$$\n",
        "\n",
        "we can use numpy's 'polyfit' function where the 1st and second arguments are the x and y values and third is the order of the polynomial (K). Let's check this works for our previous case (which was an order 1 polynomial)."
      ]
    },
    {
      "cell_type": "code",
      "execution_count": null,
      "metadata": {
        "colab": {
          "base_uri": "https://localhost:8080/"
        },
        "id": "PJe2gIDUCiQl",
        "outputId": "3eb3ab60-59f9-4724-bdef-e9849118b675"
      },
      "outputs": [
        {
          "name": "stdout",
          "output_type": "stream",
          "text": [
            "12.459451311425987 0.597411933860532\n",
            "12.459451311425983 0.5974119338605316\n"
          ]
        }
      ],
      "source": [
        "[b_poly,a_poly] =  np.polyfit(x,y,1)\n",
        "print(a,b)\n",
        "print(a_poly,b_poly)"
      ]
    },
    {
      "cell_type": "markdown",
      "metadata": {
        "id": "GMbokRDLDorw"
      },
      "source": [
        "The coeffcients are basically the same. That was a case of using 'derived' predictors. If we want to use mupltiple predictors or any arbitrary derived predictors then it is more straight forward to set the problem up in matrix form and using numpy's linalg package's lsqlin function.\n",
        "\n"
      ]
    },
    {
      "cell_type": "code",
      "execution_count": null,
      "metadata": {
        "colab": {
          "base_uri": "https://localhost:8080/"
        },
        "id": "FeMfPPS3EaiH",
        "outputId": "b2851cad-1c86-4089-d92e-340c086c21fa"
      },
      "outputs": [
        {
          "name": "stdout",
          "output_type": "stream",
          "text": [
            "12.459451311425987 0.597411933860532\n"
          ]
        },
        {
          "name": "stderr",
          "output_type": "stream",
          "text": [
            "/usr/local/lib/python3.7/dist-packages/ipykernel_launcher.py:4: FutureWarning: `rcond` parameter will change to the default of machine precision times ``max(M, N)`` where M and N are the input matrix dimensions.\n",
            "To use the future default and silence this warning we advise to pass `rcond=None`, to keep using the old, explicitly pass `rcond=-1`.\n",
            "  after removing the cwd from sys.path.\n"
          ]
        }
      ],
      "source": [
        "#Make a 2 by n matrix with 1s as the first column and the predictor x as the second\n",
        "A = np.array([1+0*x,x]).transpose()\n",
        "# Now we have A b = y and we want to determine b\n",
        "lsq  = np.linalg.lstsq(A,y)\n",
        "print(lsq[0][0],lsq[0][1])"
      ]
    },
    {
      "cell_type": "markdown",
      "metadata": {
        "id": "I3zJBcmp_Epy"
      },
      "source": [
        "## 3. NWP and MOS models\n",
        "\n",
        "We will now look at a hindcast of global surface air temperature and compare this to a station temperature observations in Hobart.\n",
        "\n",
        "Again we are going to 'mount' the appropriate github directory which requires us to use 'bash'."
      ]
    },
    {
      "cell_type": "code",
      "execution_count": null,
      "metadata": {
        "colab": {
          "base_uri": "https://localhost:8080/"
        },
        "id": "K0M5Q8juyHH9",
        "outputId": "580dff6d-649e-482a-e66a-b234705b386e"
      },
      "outputs": [
        {
          "name": "stderr",
          "output_type": "stream",
          "text": [
            "Cloning into 'MATH5271'...\n"
          ]
        }
      ],
      "source": [
        "%%bash\n",
        "# Mounting requires a special 'bash' command\n",
        "#rm -rf ./MATH5271\n",
        "git clone https://github.com/janzika/MATH5271.git"
      ]
    },
    {
      "cell_type": "markdown",
      "metadata": {
        "id": "wnhtfxUxWFxi"
      },
      "source": [
        "Firstly we will look at station data for maximum temperature from the Hobart weather station. Here is some of the meta data describing the station.\n",
        "\n",
        "I downloaded this from http://www.bom.gov.au/climate/data/ and searched for \"Hobart\". I have downloaded just 2020 data.\n",
        "\n",
        "** Station Details **\n",
        "\n",
        "Bureau of Meteorology station number: 94029\n",
        "\n",
        "Station name: HOBART (ELLERSLIE ROAD)\n",
        "\n",
        "Latitude (decimal degrees, south negative): -42.89\n",
        "\n",
        "Longitude (decimal degrees, east positive): 147.33\n",
        "\n",
        "Height of station above mean sea level (metres): 51\n",
        "\n",
        "State: TAS"
      ]
    },
    {
      "cell_type": "code",
      "execution_count": null,
      "metadata": {
        "colab": {
          "base_uri": "https://localhost:8080/",
          "height": 434
        },
        "id": "-FAEUU3NRgh9",
        "outputId": "45839b82-4190-452e-982d-00c9a09acfd8"
      },
      "outputs": [
        {
          "data": {
            "text/html": [
              "<div>\n",
              "<style scoped>\n",
              "    .dataframe tbody tr th:only-of-type {\n",
              "        vertical-align: middle;\n",
              "    }\n",
              "\n",
              "    .dataframe tbody tr th {\n",
              "        vertical-align: top;\n",
              "    }\n",
              "\n",
              "    .dataframe thead th {\n",
              "        text-align: right;\n",
              "    }\n",
              "</style>\n",
              "<table border=\"1\" class=\"dataframe\">\n",
              "  <thead>\n",
              "    <tr style=\"text-align: right;\">\n",
              "      <th></th>\n",
              "      <th>Product code</th>\n",
              "      <th>Bureau of Meteorology station number</th>\n",
              "      <th>Year</th>\n",
              "      <th>Month</th>\n",
              "      <th>Day</th>\n",
              "      <th>Maximum temperature (Degree C)</th>\n",
              "      <th>Days of accumulation of maximum temperature</th>\n",
              "      <th>Quality</th>\n",
              "    </tr>\n",
              "  </thead>\n",
              "  <tbody>\n",
              "    <tr>\n",
              "      <th>0</th>\n",
              "      <td>IDCJAC0010</td>\n",
              "      <td>94029</td>\n",
              "      <td>2020</td>\n",
              "      <td>1</td>\n",
              "      <td>1</td>\n",
              "      <td>23.3</td>\n",
              "      <td>1</td>\n",
              "      <td>Y</td>\n",
              "    </tr>\n",
              "    <tr>\n",
              "      <th>1</th>\n",
              "      <td>IDCJAC0010</td>\n",
              "      <td>94029</td>\n",
              "      <td>2020</td>\n",
              "      <td>1</td>\n",
              "      <td>2</td>\n",
              "      <td>25.9</td>\n",
              "      <td>1</td>\n",
              "      <td>Y</td>\n",
              "    </tr>\n",
              "    <tr>\n",
              "      <th>2</th>\n",
              "      <td>IDCJAC0010</td>\n",
              "      <td>94029</td>\n",
              "      <td>2020</td>\n",
              "      <td>1</td>\n",
              "      <td>3</td>\n",
              "      <td>20.7</td>\n",
              "      <td>1</td>\n",
              "      <td>Y</td>\n",
              "    </tr>\n",
              "    <tr>\n",
              "      <th>3</th>\n",
              "      <td>IDCJAC0010</td>\n",
              "      <td>94029</td>\n",
              "      <td>2020</td>\n",
              "      <td>1</td>\n",
              "      <td>4</td>\n",
              "      <td>28.1</td>\n",
              "      <td>1</td>\n",
              "      <td>Y</td>\n",
              "    </tr>\n",
              "    <tr>\n",
              "      <th>4</th>\n",
              "      <td>IDCJAC0010</td>\n",
              "      <td>94029</td>\n",
              "      <td>2020</td>\n",
              "      <td>1</td>\n",
              "      <td>5</td>\n",
              "      <td>22.9</td>\n",
              "      <td>1</td>\n",
              "      <td>Y</td>\n",
              "    </tr>\n",
              "    <tr>\n",
              "      <th>...</th>\n",
              "      <td>...</td>\n",
              "      <td>...</td>\n",
              "      <td>...</td>\n",
              "      <td>...</td>\n",
              "      <td>...</td>\n",
              "      <td>...</td>\n",
              "      <td>...</td>\n",
              "      <td>...</td>\n",
              "    </tr>\n",
              "    <tr>\n",
              "      <th>361</th>\n",
              "      <td>IDCJAC0010</td>\n",
              "      <td>94029</td>\n",
              "      <td>2020</td>\n",
              "      <td>12</td>\n",
              "      <td>27</td>\n",
              "      <td>26.4</td>\n",
              "      <td>1</td>\n",
              "      <td>Y</td>\n",
              "    </tr>\n",
              "    <tr>\n",
              "      <th>362</th>\n",
              "      <td>IDCJAC0010</td>\n",
              "      <td>94029</td>\n",
              "      <td>2020</td>\n",
              "      <td>12</td>\n",
              "      <td>28</td>\n",
              "      <td>20.9</td>\n",
              "      <td>1</td>\n",
              "      <td>Y</td>\n",
              "    </tr>\n",
              "    <tr>\n",
              "      <th>363</th>\n",
              "      <td>IDCJAC0010</td>\n",
              "      <td>94029</td>\n",
              "      <td>2020</td>\n",
              "      <td>12</td>\n",
              "      <td>29</td>\n",
              "      <td>22.9</td>\n",
              "      <td>1</td>\n",
              "      <td>Y</td>\n",
              "    </tr>\n",
              "    <tr>\n",
              "      <th>364</th>\n",
              "      <td>IDCJAC0010</td>\n",
              "      <td>94029</td>\n",
              "      <td>2020</td>\n",
              "      <td>12</td>\n",
              "      <td>30</td>\n",
              "      <td>21.4</td>\n",
              "      <td>1</td>\n",
              "      <td>Y</td>\n",
              "    </tr>\n",
              "    <tr>\n",
              "      <th>365</th>\n",
              "      <td>IDCJAC0010</td>\n",
              "      <td>94029</td>\n",
              "      <td>2020</td>\n",
              "      <td>12</td>\n",
              "      <td>31</td>\n",
              "      <td>15.9</td>\n",
              "      <td>1</td>\n",
              "      <td>Y</td>\n",
              "    </tr>\n",
              "  </tbody>\n",
              "</table>\n",
              "<p>366 rows × 8 columns</p>\n",
              "</div>"
            ],
            "text/plain": [
              "    Product code  ...  Quality\n",
              "0     IDCJAC0010  ...        Y\n",
              "1     IDCJAC0010  ...        Y\n",
              "2     IDCJAC0010  ...        Y\n",
              "3     IDCJAC0010  ...        Y\n",
              "4     IDCJAC0010  ...        Y\n",
              "..           ...  ...      ...\n",
              "361   IDCJAC0010  ...        Y\n",
              "362   IDCJAC0010  ...        Y\n",
              "363   IDCJAC0010  ...        Y\n",
              "364   IDCJAC0010  ...        Y\n",
              "365   IDCJAC0010  ...        Y\n",
              "\n",
              "[366 rows x 8 columns]"
            ]
          },
          "execution_count": 248,
          "metadata": {},
          "output_type": "execute_result"
        }
      ],
      "source": [
        "df = pd.read_csv('./MATH5271/IDCJAC0010_094029_2020_Data.csv')\n",
        "y = df['Maximum temperature (Degree C)'].values\n",
        "df"
      ]
    },
    {
      "cell_type": "markdown",
      "metadata": {
        "id": "Dc3amX0r_U_Z"
      },
      "source": [
        "Secondly we are going to look at global data from the NCEP Global re-analysis. \n",
        "\n",
        "This is a global simulation run by various US agencies to recreate past weather and climate.\n",
        "\n",
        "https://psl.noaa.gov/repository/"
      ]
    },
    {
      "cell_type": "code",
      "execution_count": null,
      "metadata": {
        "colab": {
          "base_uri": "https://localhost:8080/",
          "height": 317
        },
        "id": "ROS6RirZvf9a",
        "outputId": "07167dac-41c7-44b6-a79b-2a7cdbd2d471"
      },
      "outputs": [
        {
          "name": "stderr",
          "output_type": "stream",
          "text": [
            "/usr/local/lib/python3.7/dist-packages/xarray/conventions.py:520: SerializationWarning: variable 'air' has multiple fill values {-99, 32767}, decoding all values to NaN.\n",
            "  decode_timedelta=decode_timedelta,\n"
          ]
        },
        {
          "data": {
            "text/html": [
              "<div><svg style=\"position: absolute; width: 0; height: 0; overflow: hidden\">\n",
              "<defs>\n",
              "<symbol id=\"icon-database\" viewBox=\"0 0 32 32\">\n",
              "<path d=\"M16 0c-8.837 0-16 2.239-16 5v4c0 2.761 7.163 5 16 5s16-2.239 16-5v-4c0-2.761-7.163-5-16-5z\"></path>\n",
              "<path d=\"M16 17c-8.837 0-16-2.239-16-5v6c0 2.761 7.163 5 16 5s16-2.239 16-5v-6c0 2.761-7.163 5-16 5z\"></path>\n",
              "<path d=\"M16 26c-8.837 0-16-2.239-16-5v6c0 2.761 7.163 5 16 5s16-2.239 16-5v-6c0 2.761-7.163 5-16 5z\"></path>\n",
              "</symbol>\n",
              "<symbol id=\"icon-file-text2\" viewBox=\"0 0 32 32\">\n",
              "<path d=\"M28.681 7.159c-0.694-0.947-1.662-2.053-2.724-3.116s-2.169-2.030-3.116-2.724c-1.612-1.182-2.393-1.319-2.841-1.319h-15.5c-1.378 0-2.5 1.121-2.5 2.5v27c0 1.378 1.122 2.5 2.5 2.5h23c1.378 0 2.5-1.122 2.5-2.5v-19.5c0-0.448-0.137-1.23-1.319-2.841zM24.543 5.457c0.959 0.959 1.712 1.825 2.268 2.543h-4.811v-4.811c0.718 0.556 1.584 1.309 2.543 2.268zM28 29.5c0 0.271-0.229 0.5-0.5 0.5h-23c-0.271 0-0.5-0.229-0.5-0.5v-27c0-0.271 0.229-0.5 0.5-0.5 0 0 15.499-0 15.5 0v7c0 0.552 0.448 1 1 1h7v19.5z\"></path>\n",
              "<path d=\"M23 26h-14c-0.552 0-1-0.448-1-1s0.448-1 1-1h14c0.552 0 1 0.448 1 1s-0.448 1-1 1z\"></path>\n",
              "<path d=\"M23 22h-14c-0.552 0-1-0.448-1-1s0.448-1 1-1h14c0.552 0 1 0.448 1 1s-0.448 1-1 1z\"></path>\n",
              "<path d=\"M23 18h-14c-0.552 0-1-0.448-1-1s0.448-1 1-1h14c0.552 0 1 0.448 1 1s-0.448 1-1 1z\"></path>\n",
              "</symbol>\n",
              "</defs>\n",
              "</svg>\n",
              "<style>/* CSS stylesheet for displaying xarray objects in jupyterlab.\n",
              " *\n",
              " */\n",
              "\n",
              ":root {\n",
              "  --xr-font-color0: var(--jp-content-font-color0, rgba(0, 0, 0, 1));\n",
              "  --xr-font-color2: var(--jp-content-font-color2, rgba(0, 0, 0, 0.54));\n",
              "  --xr-font-color3: var(--jp-content-font-color3, rgba(0, 0, 0, 0.38));\n",
              "  --xr-border-color: var(--jp-border-color2, #e0e0e0);\n",
              "  --xr-disabled-color: var(--jp-layout-color3, #bdbdbd);\n",
              "  --xr-background-color: var(--jp-layout-color0, white);\n",
              "  --xr-background-color-row-even: var(--jp-layout-color1, white);\n",
              "  --xr-background-color-row-odd: var(--jp-layout-color2, #eeeeee);\n",
              "}\n",
              "\n",
              "html[theme=dark],\n",
              "body.vscode-dark {\n",
              "  --xr-font-color0: rgba(255, 255, 255, 1);\n",
              "  --xr-font-color2: rgba(255, 255, 255, 0.54);\n",
              "  --xr-font-color3: rgba(255, 255, 255, 0.38);\n",
              "  --xr-border-color: #1F1F1F;\n",
              "  --xr-disabled-color: #515151;\n",
              "  --xr-background-color: #111111;\n",
              "  --xr-background-color-row-even: #111111;\n",
              "  --xr-background-color-row-odd: #313131;\n",
              "}\n",
              "\n",
              ".xr-wrap {\n",
              "  display: block;\n",
              "  min-width: 300px;\n",
              "  max-width: 700px;\n",
              "}\n",
              "\n",
              ".xr-text-repr-fallback {\n",
              "  /* fallback to plain text repr when CSS is not injected (untrusted notebook) */\n",
              "  display: none;\n",
              "}\n",
              "\n",
              ".xr-header {\n",
              "  padding-top: 6px;\n",
              "  padding-bottom: 6px;\n",
              "  margin-bottom: 4px;\n",
              "  border-bottom: solid 1px var(--xr-border-color);\n",
              "}\n",
              "\n",
              ".xr-header > div,\n",
              ".xr-header > ul {\n",
              "  display: inline;\n",
              "  margin-top: 0;\n",
              "  margin-bottom: 0;\n",
              "}\n",
              "\n",
              ".xr-obj-type,\n",
              ".xr-array-name {\n",
              "  margin-left: 2px;\n",
              "  margin-right: 10px;\n",
              "}\n",
              "\n",
              ".xr-obj-type {\n",
              "  color: var(--xr-font-color2);\n",
              "}\n",
              "\n",
              ".xr-sections {\n",
              "  padding-left: 0 !important;\n",
              "  display: grid;\n",
              "  grid-template-columns: 150px auto auto 1fr 20px 20px;\n",
              "}\n",
              "\n",
              ".xr-section-item {\n",
              "  display: contents;\n",
              "}\n",
              "\n",
              ".xr-section-item input {\n",
              "  display: none;\n",
              "}\n",
              "\n",
              ".xr-section-item input + label {\n",
              "  color: var(--xr-disabled-color);\n",
              "}\n",
              "\n",
              ".xr-section-item input:enabled + label {\n",
              "  cursor: pointer;\n",
              "  color: var(--xr-font-color2);\n",
              "}\n",
              "\n",
              ".xr-section-item input:enabled + label:hover {\n",
              "  color: var(--xr-font-color0);\n",
              "}\n",
              "\n",
              ".xr-section-summary {\n",
              "  grid-column: 1;\n",
              "  color: var(--xr-font-color2);\n",
              "  font-weight: 500;\n",
              "}\n",
              "\n",
              ".xr-section-summary > span {\n",
              "  display: inline-block;\n",
              "  padding-left: 0.5em;\n",
              "}\n",
              "\n",
              ".xr-section-summary-in:disabled + label {\n",
              "  color: var(--xr-font-color2);\n",
              "}\n",
              "\n",
              ".xr-section-summary-in + label:before {\n",
              "  display: inline-block;\n",
              "  content: '►';\n",
              "  font-size: 11px;\n",
              "  width: 15px;\n",
              "  text-align: center;\n",
              "}\n",
              "\n",
              ".xr-section-summary-in:disabled + label:before {\n",
              "  color: var(--xr-disabled-color);\n",
              "}\n",
              "\n",
              ".xr-section-summary-in:checked + label:before {\n",
              "  content: '▼';\n",
              "}\n",
              "\n",
              ".xr-section-summary-in:checked + label > span {\n",
              "  display: none;\n",
              "}\n",
              "\n",
              ".xr-section-summary,\n",
              ".xr-section-inline-details {\n",
              "  padding-top: 4px;\n",
              "  padding-bottom: 4px;\n",
              "}\n",
              "\n",
              ".xr-section-inline-details {\n",
              "  grid-column: 2 / -1;\n",
              "}\n",
              "\n",
              ".xr-section-details {\n",
              "  display: none;\n",
              "  grid-column: 1 / -1;\n",
              "  margin-bottom: 5px;\n",
              "}\n",
              "\n",
              ".xr-section-summary-in:checked ~ .xr-section-details {\n",
              "  display: contents;\n",
              "}\n",
              "\n",
              ".xr-array-wrap {\n",
              "  grid-column: 1 / -1;\n",
              "  display: grid;\n",
              "  grid-template-columns: 20px auto;\n",
              "}\n",
              "\n",
              ".xr-array-wrap > label {\n",
              "  grid-column: 1;\n",
              "  vertical-align: top;\n",
              "}\n",
              "\n",
              ".xr-preview {\n",
              "  color: var(--xr-font-color3);\n",
              "}\n",
              "\n",
              ".xr-array-preview,\n",
              ".xr-array-data {\n",
              "  padding: 0 5px !important;\n",
              "  grid-column: 2;\n",
              "}\n",
              "\n",
              ".xr-array-data,\n",
              ".xr-array-in:checked ~ .xr-array-preview {\n",
              "  display: none;\n",
              "}\n",
              "\n",
              ".xr-array-in:checked ~ .xr-array-data,\n",
              ".xr-array-preview {\n",
              "  display: inline-block;\n",
              "}\n",
              "\n",
              ".xr-dim-list {\n",
              "  display: inline-block !important;\n",
              "  list-style: none;\n",
              "  padding: 0 !important;\n",
              "  margin: 0;\n",
              "}\n",
              "\n",
              ".xr-dim-list li {\n",
              "  display: inline-block;\n",
              "  padding: 0;\n",
              "  margin: 0;\n",
              "}\n",
              "\n",
              ".xr-dim-list:before {\n",
              "  content: '(';\n",
              "}\n",
              "\n",
              ".xr-dim-list:after {\n",
              "  content: ')';\n",
              "}\n",
              "\n",
              ".xr-dim-list li:not(:last-child):after {\n",
              "  content: ',';\n",
              "  padding-right: 5px;\n",
              "}\n",
              "\n",
              ".xr-has-index {\n",
              "  font-weight: bold;\n",
              "}\n",
              "\n",
              ".xr-var-list,\n",
              ".xr-var-item {\n",
              "  display: contents;\n",
              "}\n",
              "\n",
              ".xr-var-item > div,\n",
              ".xr-var-item label,\n",
              ".xr-var-item > .xr-var-name span {\n",
              "  background-color: var(--xr-background-color-row-even);\n",
              "  margin-bottom: 0;\n",
              "}\n",
              "\n",
              ".xr-var-item > .xr-var-name:hover span {\n",
              "  padding-right: 5px;\n",
              "}\n",
              "\n",
              ".xr-var-list > li:nth-child(odd) > div,\n",
              ".xr-var-list > li:nth-child(odd) > label,\n",
              ".xr-var-list > li:nth-child(odd) > .xr-var-name span {\n",
              "  background-color: var(--xr-background-color-row-odd);\n",
              "}\n",
              "\n",
              ".xr-var-name {\n",
              "  grid-column: 1;\n",
              "}\n",
              "\n",
              ".xr-var-dims {\n",
              "  grid-column: 2;\n",
              "}\n",
              "\n",
              ".xr-var-dtype {\n",
              "  grid-column: 3;\n",
              "  text-align: right;\n",
              "  color: var(--xr-font-color2);\n",
              "}\n",
              "\n",
              ".xr-var-preview {\n",
              "  grid-column: 4;\n",
              "}\n",
              "\n",
              ".xr-var-name,\n",
              ".xr-var-dims,\n",
              ".xr-var-dtype,\n",
              ".xr-preview,\n",
              ".xr-attrs dt {\n",
              "  white-space: nowrap;\n",
              "  overflow: hidden;\n",
              "  text-overflow: ellipsis;\n",
              "  padding-right: 10px;\n",
              "}\n",
              "\n",
              ".xr-var-name:hover,\n",
              ".xr-var-dims:hover,\n",
              ".xr-var-dtype:hover,\n",
              ".xr-attrs dt:hover {\n",
              "  overflow: visible;\n",
              "  width: auto;\n",
              "  z-index: 1;\n",
              "}\n",
              "\n",
              ".xr-var-attrs,\n",
              ".xr-var-data {\n",
              "  display: none;\n",
              "  background-color: var(--xr-background-color) !important;\n",
              "  padding-bottom: 5px !important;\n",
              "}\n",
              "\n",
              ".xr-var-attrs-in:checked ~ .xr-var-attrs,\n",
              ".xr-var-data-in:checked ~ .xr-var-data {\n",
              "  display: block;\n",
              "}\n",
              "\n",
              ".xr-var-data > table {\n",
              "  float: right;\n",
              "}\n",
              "\n",
              ".xr-var-name span,\n",
              ".xr-var-data,\n",
              ".xr-attrs {\n",
              "  padding-left: 25px !important;\n",
              "}\n",
              "\n",
              ".xr-attrs,\n",
              ".xr-var-attrs,\n",
              ".xr-var-data {\n",
              "  grid-column: 1 / -1;\n",
              "}\n",
              "\n",
              "dl.xr-attrs {\n",
              "  padding: 0;\n",
              "  margin: 0;\n",
              "  display: grid;\n",
              "  grid-template-columns: 125px auto;\n",
              "}\n",
              "\n",
              ".xr-attrs dt,\n",
              ".xr-attrs dd {\n",
              "  padding: 0;\n",
              "  margin: 0;\n",
              "  float: left;\n",
              "  padding-right: 10px;\n",
              "  width: auto;\n",
              "}\n",
              "\n",
              ".xr-attrs dt {\n",
              "  font-weight: normal;\n",
              "  grid-column: 1;\n",
              "}\n",
              "\n",
              ".xr-attrs dt:hover span {\n",
              "  display: inline-block;\n",
              "  background: var(--xr-background-color);\n",
              "  padding-right: 10px;\n",
              "}\n",
              "\n",
              ".xr-attrs dd {\n",
              "  grid-column: 2;\n",
              "  white-space: pre-wrap;\n",
              "  word-break: break-all;\n",
              "}\n",
              "\n",
              ".xr-icon-database,\n",
              ".xr-icon-file-text2 {\n",
              "  display: inline-block;\n",
              "  vertical-align: middle;\n",
              "  width: 1em;\n",
              "  height: 1.5em !important;\n",
              "  stroke-width: 0;\n",
              "  stroke: currentColor;\n",
              "  fill: currentColor;\n",
              "}\n",
              "</style><pre class='xr-text-repr-fallback'>&lt;xarray.Dataset&gt;\n",
              "Dimensions:  (lat: 73, lon: 144, time: 366)\n",
              "Coordinates:\n",
              "  * lon      (lon) float32 0.0 2.5 5.0 7.5 10.0 ... 350.0 352.5 355.0 357.5\n",
              "  * lat      (lat) float32 90.0 87.5 85.0 82.5 80.0 ... -82.5 -85.0 -87.5 -90.0\n",
              "  * time     (time) datetime64[ns] 2020-01-01 2020-01-02 ... 2020-12-31\n",
              "Data variables:\n",
              "    air      (time, lat, lon) float32 dask.array&lt;chunksize=(366, 73, 144), meta=np.ndarray&gt;\n",
              "    head     (time) int16 dask.array&lt;chunksize=(366,), meta=np.ndarray&gt;\n",
              "Attributes:\n",
              "    title:          Once daily NCEP geopotential height data \n",
              "    delta_time:     once daily\n",
              "    supplier:       NCEP\n",
              "    producer:       NCEP\n",
              "    history:        created 2019/12 by Hoop (netCDF3)\n",
              "    description:    Data is from NCEP initialized analysis\\n(2x/day).  It con...\n",
              "    platform:       Model\n",
              "    Conventions:    CF-1.2\n",
              "    References:     https://www.psl.noaa.gov/data/gridded/data.ncep.html\n",
              "    dataset_title:  NCEP Global Data Assimilation System GDAS</pre><div class='xr-wrap' hidden><div class='xr-header'><div class='xr-obj-type'>xarray.Dataset</div></div><ul class='xr-sections'><li class='xr-section-item'><input id='section-0de3fd7d-b929-4779-9bae-2a56fe60de50' class='xr-section-summary-in' type='checkbox' disabled ><label for='section-0de3fd7d-b929-4779-9bae-2a56fe60de50' class='xr-section-summary'  title='Expand/collapse section'>Dimensions:</label><div class='xr-section-inline-details'><ul class='xr-dim-list'><li><span class='xr-has-index'>lat</span>: 73</li><li><span class='xr-has-index'>lon</span>: 144</li><li><span class='xr-has-index'>time</span>: 366</li></ul></div><div class='xr-section-details'></div></li><li class='xr-section-item'><input id='section-8467a021-c0e8-4145-b664-1306c48b168c' class='xr-section-summary-in' type='checkbox'  checked><label for='section-8467a021-c0e8-4145-b664-1306c48b168c' class='xr-section-summary' >Coordinates: <span>(3)</span></label><div class='xr-section-inline-details'></div><div class='xr-section-details'><ul class='xr-var-list'><li class='xr-var-item'><div class='xr-var-name'><span class='xr-has-index'>lon</span></div><div class='xr-var-dims'>(lon)</div><div class='xr-var-dtype'>float32</div><div class='xr-var-preview xr-preview'>0.0 2.5 5.0 ... 352.5 355.0 357.5</div><input id='attrs-110f7881-136f-4ac0-b597-112b4b761cd1' class='xr-var-attrs-in' type='checkbox' ><label for='attrs-110f7881-136f-4ac0-b597-112b4b761cd1' title='Show/Hide attributes'><svg class='icon xr-icon-file-text2'><use xlink:href='#icon-file-text2'></use></svg></label><input id='data-b7ea11fc-433e-457b-b23e-ba5cf952af53' class='xr-var-data-in' type='checkbox'><label for='data-b7ea11fc-433e-457b-b23e-ba5cf952af53' title='Show/Hide data repr'><svg class='icon xr-icon-database'><use xlink:href='#icon-database'></use></svg></label><div class='xr-var-attrs'><dl class='xr-attrs'><dt><span>units :</span></dt><dd>degrees_east</dd><dt><span>long_name :</span></dt><dd>Longitude</dd><dt><span>actual_range :</span></dt><dd>[  0.  357.5]</dd><dt><span>standard_name :</span></dt><dd>longitude</dd><dt><span>axis :</span></dt><dd>X</dd></dl></div><div class='xr-var-data'><pre>array([  0. ,   2.5,   5. ,   7.5,  10. ,  12.5,  15. ,  17.5,  20. ,  22.5,\n",
              "        25. ,  27.5,  30. ,  32.5,  35. ,  37.5,  40. ,  42.5,  45. ,  47.5,\n",
              "        50. ,  52.5,  55. ,  57.5,  60. ,  62.5,  65. ,  67.5,  70. ,  72.5,\n",
              "        75. ,  77.5,  80. ,  82.5,  85. ,  87.5,  90. ,  92.5,  95. ,  97.5,\n",
              "       100. , 102.5, 105. , 107.5, 110. , 112.5, 115. , 117.5, 120. , 122.5,\n",
              "       125. , 127.5, 130. , 132.5, 135. , 137.5, 140. , 142.5, 145. , 147.5,\n",
              "       150. , 152.5, 155. , 157.5, 160. , 162.5, 165. , 167.5, 170. , 172.5,\n",
              "       175. , 177.5, 180. , 182.5, 185. , 187.5, 190. , 192.5, 195. , 197.5,\n",
              "       200. , 202.5, 205. , 207.5, 210. , 212.5, 215. , 217.5, 220. , 222.5,\n",
              "       225. , 227.5, 230. , 232.5, 235. , 237.5, 240. , 242.5, 245. , 247.5,\n",
              "       250. , 252.5, 255. , 257.5, 260. , 262.5, 265. , 267.5, 270. , 272.5,\n",
              "       275. , 277.5, 280. , 282.5, 285. , 287.5, 290. , 292.5, 295. , 297.5,\n",
              "       300. , 302.5, 305. , 307.5, 310. , 312.5, 315. , 317.5, 320. , 322.5,\n",
              "       325. , 327.5, 330. , 332.5, 335. , 337.5, 340. , 342.5, 345. , 347.5,\n",
              "       350. , 352.5, 355. , 357.5], dtype=float32)</pre></div></li><li class='xr-var-item'><div class='xr-var-name'><span class='xr-has-index'>lat</span></div><div class='xr-var-dims'>(lat)</div><div class='xr-var-dtype'>float32</div><div class='xr-var-preview xr-preview'>90.0 87.5 85.0 ... -87.5 -90.0</div><input id='attrs-068c2a3f-0aae-45c6-9bf0-4b9aecc66874' class='xr-var-attrs-in' type='checkbox' ><label for='attrs-068c2a3f-0aae-45c6-9bf0-4b9aecc66874' title='Show/Hide attributes'><svg class='icon xr-icon-file-text2'><use xlink:href='#icon-file-text2'></use></svg></label><input id='data-31364c3f-82e4-436c-9ae4-fbba1aa453b7' class='xr-var-data-in' type='checkbox'><label for='data-31364c3f-82e4-436c-9ae4-fbba1aa453b7' title='Show/Hide data repr'><svg class='icon xr-icon-database'><use xlink:href='#icon-database'></use></svg></label><div class='xr-var-attrs'><dl class='xr-attrs'><dt><span>units :</span></dt><dd>degrees_north</dd><dt><span>actual_range :</span></dt><dd>[ 90. -90.]</dd><dt><span>long_name :</span></dt><dd>Latitude</dd><dt><span>standard_name :</span></dt><dd>latitude</dd><dt><span>axis :</span></dt><dd>Y</dd></dl></div><div class='xr-var-data'><pre>array([ 90. ,  87.5,  85. ,  82.5,  80. ,  77.5,  75. ,  72.5,  70. ,  67.5,\n",
              "        65. ,  62.5,  60. ,  57.5,  55. ,  52.5,  50. ,  47.5,  45. ,  42.5,\n",
              "        40. ,  37.5,  35. ,  32.5,  30. ,  27.5,  25. ,  22.5,  20. ,  17.5,\n",
              "        15. ,  12.5,  10. ,   7.5,   5. ,   2.5,   0. ,  -2.5,  -5. ,  -7.5,\n",
              "       -10. , -12.5, -15. , -17.5, -20. , -22.5, -25. , -27.5, -30. , -32.5,\n",
              "       -35. , -37.5, -40. , -42.5, -45. , -47.5, -50. , -52.5, -55. , -57.5,\n",
              "       -60. , -62.5, -65. , -67.5, -70. , -72.5, -75. , -77.5, -80. , -82.5,\n",
              "       -85. , -87.5, -90. ], dtype=float32)</pre></div></li><li class='xr-var-item'><div class='xr-var-name'><span class='xr-has-index'>time</span></div><div class='xr-var-dims'>(time)</div><div class='xr-var-dtype'>datetime64[ns]</div><div class='xr-var-preview xr-preview'>2020-01-01 ... 2020-12-31</div><input id='attrs-0db09515-8b09-40d6-b505-5795eb59e22d' class='xr-var-attrs-in' type='checkbox' ><label for='attrs-0db09515-8b09-40d6-b505-5795eb59e22d' title='Show/Hide attributes'><svg class='icon xr-icon-file-text2'><use xlink:href='#icon-file-text2'></use></svg></label><input id='data-f9e2bc36-cb53-46ee-93a6-9dbf068ad297' class='xr-var-data-in' type='checkbox'><label for='data-f9e2bc36-cb53-46ee-93a6-9dbf068ad297' title='Show/Hide data repr'><svg class='icon xr-icon-database'><use xlink:href='#icon-database'></use></svg></label><div class='xr-var-attrs'><dl class='xr-attrs'><dt><span>long_name :</span></dt><dd>Time</dd><dt><span>actual_range :</span></dt><dd>[80353. 80718.]</dd><dt><span>delta_t :</span></dt><dd>0000-00-01 00:00:00</dd><dt><span>avg_period :</span></dt><dd>0000-00-01 00:00:00</dd><dt><span>prev_avg_period :</span></dt><dd>0000-00-00 06:00:00</dd><dt><span>standard_name :</span></dt><dd>time</dd><dt><span>axis :</span></dt><dd>T</dd></dl></div><div class='xr-var-data'><pre>array([&#x27;2020-01-01T00:00:00.000000000&#x27;, &#x27;2020-01-02T00:00:00.000000000&#x27;,\n",
              "       &#x27;2020-01-03T00:00:00.000000000&#x27;, ..., &#x27;2020-12-29T00:00:00.000000000&#x27;,\n",
              "       &#x27;2020-12-30T00:00:00.000000000&#x27;, &#x27;2020-12-31T00:00:00.000000000&#x27;],\n",
              "      dtype=&#x27;datetime64[ns]&#x27;)</pre></div></li></ul></div></li><li class='xr-section-item'><input id='section-091939a8-0b40-4558-ada6-7b8457b11cac' class='xr-section-summary-in' type='checkbox'  checked><label for='section-091939a8-0b40-4558-ada6-7b8457b11cac' class='xr-section-summary' >Data variables: <span>(2)</span></label><div class='xr-section-inline-details'></div><div class='xr-section-details'><ul class='xr-var-list'><li class='xr-var-item'><div class='xr-var-name'><span>air</span></div><div class='xr-var-dims'>(time, lat, lon)</div><div class='xr-var-dtype'>float32</div><div class='xr-var-preview xr-preview'>dask.array&lt;chunksize=(366, 73, 144), meta=np.ndarray&gt;</div><input id='attrs-9cab6edd-888e-4e87-87e7-7778a302ffde' class='xr-var-attrs-in' type='checkbox' ><label for='attrs-9cab6edd-888e-4e87-87e7-7778a302ffde' title='Show/Hide attributes'><svg class='icon xr-icon-file-text2'><use xlink:href='#icon-file-text2'></use></svg></label><input id='data-9acd6d86-f135-4626-9af3-62d0ae2b35f0' class='xr-var-data-in' type='checkbox'><label for='data-9acd6d86-f135-4626-9af3-62d0ae2b35f0' title='Show/Hide data repr'><svg class='icon xr-icon-database'><use xlink:href='#icon-database'></use></svg></label><div class='xr-var-attrs'><dl class='xr-attrs'><dt><span>long_name :</span></dt><dd>Air temperature</dd><dt><span>unpacked_valid_range :</span></dt><dd>[150. 350.]</dd><dt><span>actual_range :</span></dt><dd>[178.7   245.845]</dd><dt><span>units :</span></dt><dd>degK</dd><dt><span>var_desc :</span></dt><dd>Air temperature</dd><dt><span>precision :</span></dt><dd>2</dd><dt><span>dataset :</span></dt><dd>NCEP</dd><dt><span>level_desc :</span></dt><dd>Surface</dd><dt><span>statistic :</span></dt><dd>Mean</dd><dt><span>parent_stat :</span></dt><dd>Individual Obs</dd><dt><span>valid_range :</span></dt><dd>[-32765 -12765]</dd></dl></div><div class='xr-var-data'><table>\n",
              "<tr>\n",
              "<td>\n",
              "<table>\n",
              "  <thead>\n",
              "    <tr><td> </td><th> Array </th><th> Chunk </th></tr>\n",
              "  </thead>\n",
              "  <tbody>\n",
              "    <tr><th> Bytes </th><td> 15.39 MB </td> <td> 15.39 MB </td></tr>\n",
              "    <tr><th> Shape </th><td> (366, 73, 144) </td> <td> (366, 73, 144) </td></tr>\n",
              "    <tr><th> Count </th><td> 2 Tasks </td><td> 1 Chunks </td></tr>\n",
              "    <tr><th> Type </th><td> float32 </td><td> numpy.ndarray </td></tr>\n",
              "  </tbody>\n",
              "</table>\n",
              "</td>\n",
              "<td>\n",
              "<svg width=\"177\" height=\"162\" style=\"stroke:rgb(0,0,0);stroke-width:1\" >\n",
              "\n",
              "  <!-- Horizontal lines -->\n",
              "  <line x1=\"10\" y1=\"0\" x2=\"80\" y2=\"70\" style=\"stroke-width:2\" />\n",
              "  <line x1=\"10\" y1=\"41\" x2=\"80\" y2=\"112\" style=\"stroke-width:2\" />\n",
              "\n",
              "  <!-- Vertical lines -->\n",
              "  <line x1=\"10\" y1=\"0\" x2=\"10\" y2=\"41\" style=\"stroke-width:2\" />\n",
              "  <line x1=\"80\" y1=\"70\" x2=\"80\" y2=\"112\" style=\"stroke-width:2\" />\n",
              "\n",
              "  <!-- Colored Rectangle -->\n",
              "  <polygon points=\"10.000000,0.000000 80.588235,70.588235 80.588235,112.586555 10.000000,41.998320\" style=\"fill:#ECB172A0;stroke-width:0\"/>\n",
              "\n",
              "  <!-- Horizontal lines -->\n",
              "  <line x1=\"10\" y1=\"0\" x2=\"57\" y2=\"0\" style=\"stroke-width:2\" />\n",
              "  <line x1=\"80\" y1=\"70\" x2=\"127\" y2=\"70\" style=\"stroke-width:2\" />\n",
              "\n",
              "  <!-- Vertical lines -->\n",
              "  <line x1=\"10\" y1=\"0\" x2=\"80\" y2=\"70\" style=\"stroke-width:2\" />\n",
              "  <line x1=\"57\" y1=\"0\" x2=\"127\" y2=\"70\" style=\"stroke-width:2\" />\n",
              "\n",
              "  <!-- Colored Rectangle -->\n",
              "  <polygon points=\"10.000000,0.000000 57.213115,0.000000 127.801350,70.588235 80.588235,70.588235\" style=\"fill:#ECB172A0;stroke-width:0\"/>\n",
              "\n",
              "  <!-- Horizontal lines -->\n",
              "  <line x1=\"80\" y1=\"70\" x2=\"127\" y2=\"70\" style=\"stroke-width:2\" />\n",
              "  <line x1=\"80\" y1=\"112\" x2=\"127\" y2=\"112\" style=\"stroke-width:2\" />\n",
              "\n",
              "  <!-- Vertical lines -->\n",
              "  <line x1=\"80\" y1=\"70\" x2=\"80\" y2=\"112\" style=\"stroke-width:2\" />\n",
              "  <line x1=\"127\" y1=\"70\" x2=\"127\" y2=\"112\" style=\"stroke-width:2\" />\n",
              "\n",
              "  <!-- Colored Rectangle -->\n",
              "  <polygon points=\"80.588235,70.588235 127.801350,70.588235 127.801350,112.586555 80.588235,112.586555\" style=\"fill:#ECB172A0;stroke-width:0\"/>\n",
              "\n",
              "  <!-- Text -->\n",
              "  <text x=\"104.194793\" y=\"132.586555\" font-size=\"1.0rem\" font-weight=\"100\" text-anchor=\"middle\" >144</text>\n",
              "  <text x=\"147.801350\" y=\"91.587395\" font-size=\"1.0rem\" font-weight=\"100\" text-anchor=\"middle\" transform=\"rotate(0,147.801350,91.587395)\">73</text>\n",
              "  <text x=\"35.294118\" y=\"97.292437\" font-size=\"1.0rem\" font-weight=\"100\" text-anchor=\"middle\" transform=\"rotate(45,35.294118,97.292437)\">366</text>\n",
              "</svg>\n",
              "</td>\n",
              "</tr>\n",
              "</table></div></li><li class='xr-var-item'><div class='xr-var-name'><span>head</span></div><div class='xr-var-dims'>(time)</div><div class='xr-var-dtype'>int16</div><div class='xr-var-preview xr-preview'>dask.array&lt;chunksize=(366,), meta=np.ndarray&gt;</div><input id='attrs-94aec1e9-157f-4ab8-9324-ffa47f23fd9c' class='xr-var-attrs-in' type='checkbox' ><label for='attrs-94aec1e9-157f-4ab8-9324-ffa47f23fd9c' title='Show/Hide attributes'><svg class='icon xr-icon-file-text2'><use xlink:href='#icon-file-text2'></use></svg></label><input id='data-647044cd-c89a-4067-b44f-667fe694a3ad' class='xr-var-data-in' type='checkbox'><label for='data-647044cd-c89a-4067-b44f-667fe694a3ad' title='Show/Hide data repr'><svg class='icon xr-icon-database'><use xlink:href='#icon-database'></use></svg></label><div class='xr-var-attrs'><dl class='xr-attrs'><dt><span>valid_range :</span></dt><dd>[0 3]</dd><dt><span>long_name :</span></dt><dd>Missing</dd></dl></div><div class='xr-var-data'><table>\n",
              "<tr>\n",
              "<td>\n",
              "<table>\n",
              "  <thead>\n",
              "    <tr><td> </td><th> Array </th><th> Chunk </th></tr>\n",
              "  </thead>\n",
              "  <tbody>\n",
              "    <tr><th> Bytes </th><td> 732 B </td> <td> 732 B </td></tr>\n",
              "    <tr><th> Shape </th><td> (366,) </td> <td> (366,) </td></tr>\n",
              "    <tr><th> Count </th><td> 2 Tasks </td><td> 1 Chunks </td></tr>\n",
              "    <tr><th> Type </th><td> int16 </td><td> numpy.ndarray </td></tr>\n",
              "  </tbody>\n",
              "</table>\n",
              "</td>\n",
              "<td>\n",
              "<svg width=\"170\" height=\"75\" style=\"stroke:rgb(0,0,0);stroke-width:1\" >\n",
              "\n",
              "  <!-- Horizontal lines -->\n",
              "  <line x1=\"0\" y1=\"0\" x2=\"120\" y2=\"0\" style=\"stroke-width:2\" />\n",
              "  <line x1=\"0\" y1=\"25\" x2=\"120\" y2=\"25\" style=\"stroke-width:2\" />\n",
              "\n",
              "  <!-- Vertical lines -->\n",
              "  <line x1=\"0\" y1=\"0\" x2=\"0\" y2=\"25\" style=\"stroke-width:2\" />\n",
              "  <line x1=\"120\" y1=\"0\" x2=\"120\" y2=\"25\" style=\"stroke-width:2\" />\n",
              "\n",
              "  <!-- Colored Rectangle -->\n",
              "  <polygon points=\"0.000000,0.000000 120.000000,0.000000 120.000000,25.412617 0.000000,25.412617\" style=\"fill:#ECB172A0;stroke-width:0\"/>\n",
              "\n",
              "  <!-- Text -->\n",
              "  <text x=\"60.000000\" y=\"45.412617\" font-size=\"1.0rem\" font-weight=\"100\" text-anchor=\"middle\" >366</text>\n",
              "  <text x=\"140.000000\" y=\"12.706308\" font-size=\"1.0rem\" font-weight=\"100\" text-anchor=\"middle\" transform=\"rotate(0,140.000000,12.706308)\">1</text>\n",
              "</svg>\n",
              "</td>\n",
              "</tr>\n",
              "</table></div></li></ul></div></li><li class='xr-section-item'><input id='section-7dbcd9e1-8a47-49ef-90a9-eefebf3d9be7' class='xr-section-summary-in' type='checkbox'  ><label for='section-7dbcd9e1-8a47-49ef-90a9-eefebf3d9be7' class='xr-section-summary' >Attributes: <span>(10)</span></label><div class='xr-section-inline-details'></div><div class='xr-section-details'><dl class='xr-attrs'><dt><span>title :</span></dt><dd>Once daily NCEP geopotential height data </dd><dt><span>delta_time :</span></dt><dd>once daily</dd><dt><span>supplier :</span></dt><dd>NCEP</dd><dt><span>producer :</span></dt><dd>NCEP</dd><dt><span>history :</span></dt><dd>created 2019/12 by Hoop (netCDF3)</dd><dt><span>description :</span></dt><dd>Data is from NCEP initialized analysis\n",
              "(2x/day).  It consists of most variables interpolated to\n",
              "pressure surfaces from model (sigma) surfaces. Data\n",
              "is averged from 2x daily\n",
              "</dd><dt><span>platform :</span></dt><dd>Model</dd><dt><span>Conventions :</span></dt><dd>CF-1.2</dd><dt><span>References :</span></dt><dd>https://www.psl.noaa.gov/data/gridded/data.ncep.html</dd><dt><span>dataset_title :</span></dt><dd>NCEP Global Data Assimilation System GDAS</dd></dl></div></li></ul></div></div>"
            ],
            "text/plain": [
              "<xarray.Dataset>\n",
              "Dimensions:  (lat: 73, lon: 144, time: 366)\n",
              "Coordinates:\n",
              "  * lon      (lon) float32 0.0 2.5 5.0 7.5 10.0 ... 350.0 352.5 355.0 357.5\n",
              "  * lat      (lat) float32 90.0 87.5 85.0 82.5 80.0 ... -82.5 -85.0 -87.5 -90.0\n",
              "  * time     (time) datetime64[ns] 2020-01-01 2020-01-02 ... 2020-12-31\n",
              "Data variables:\n",
              "    air      (time, lat, lon) float32 dask.array<chunksize=(366, 73, 144), meta=np.ndarray>\n",
              "    head     (time) int16 dask.array<chunksize=(366,), meta=np.ndarray>\n",
              "Attributes:\n",
              "    title:          Once daily NCEP geopotential height data \n",
              "    delta_time:     once daily\n",
              "    supplier:       NCEP\n",
              "    producer:       NCEP\n",
              "    history:        created 2019/12 by Hoop (netCDF3)\n",
              "    description:    Data is from NCEP initialized analysis\\n(2x/day).  It con...\n",
              "    platform:       Model\n",
              "    Conventions:    CF-1.2\n",
              "    References:     https://www.psl.noaa.gov/data/gridded/data.ncep.html\n",
              "    dataset_title:  NCEP Global Data Assimilation System GDAS"
            ]
          },
          "execution_count": 165,
          "metadata": {},
          "output_type": "execute_result"
        }
      ],
      "source": [
        "ds = xr.open_mfdataset('./MATH5271/air.sfc.2020.nc')\n",
        "ds"
      ]
    },
    {
      "cell_type": "markdown",
      "metadata": {
        "id": "vG11PI5rGXJD"
      },
      "source": [
        "Let's plot the data for one day and see where Hobart sits in the global context."
      ]
    },
    {
      "cell_type": "code",
      "execution_count": null,
      "metadata": {
        "colab": {
          "base_uri": "https://localhost:8080/",
          "height": 313
        },
        "id": "Efau4CzMwnqf",
        "outputId": "a23064f8-6ce5-4154-c74b-37ff09b892ee"
      },
      "outputs": [
        {
          "data": {
            "text/plain": [
              "[<matplotlib.lines.Line2D at 0x7f788cc413d0>]"
            ]
          },
          "execution_count": 166,
          "metadata": {},
          "output_type": "execute_result"
        },
        {
          "data": {
            "image/png": "[encoded data removed]",
            "text/plain": [
              "<Figure size 432x288 with 2 Axes>"
            ]
          },
          "metadata": {
            "needs_background": "light"
          },
          "output_type": "display_data"
        }
      ],
      "source": [
        "var = ds.air\n",
        "var.sel(time='2020-12-31').plot()\n",
        "plt.plot(147.33,-42.89,'r*')"
      ]
    },
    {
      "cell_type": "code",
      "execution_count": null,
      "metadata": {
        "colab": {
          "base_uri": "https://localhost:8080/",
          "height": 313
        },
        "id": "N9iMszC9XHW5",
        "outputId": "7451bb01-b419-4ca3-db7a-8dd48de5e6d9"
      },
      "outputs": [
        {
          "data": {
            "text/plain": [
              "[<matplotlib.lines.Line2D at 0x7f788cb1a1d0>]"
            ]
          },
          "execution_count": 167,
          "metadata": {},
          "output_type": "execute_result"
        },
        {
          "data": {
            "image/png": "[encoded data removed]",
            "text/plain": [
              "<Figure size 432x288 with 2 Axes>"
            ]
          },
          "metadata": {
            "needs_background": "light"
          },
          "output_type": "display_data"
        }
      ],
      "source": [
        "var = ds.air\n",
        "TAS_LON = [100,160];\n",
        "TAS_LAT = [-15,-50];\n",
        "var.sel(time='2020-12-31',lat=slice(TAS_LAT[0],TAS_LAT[1]),lon=slice(TAS_LON[0],TAS_LON[1])).plot()\n",
        "plt.plot(147.33,-42.89,'r*')"
      ]
    },
    {
      "cell_type": "markdown",
      "metadata": {
        "id": "1oghNliWGjHn"
      },
      "source": [
        "Now we can pull out some nearby grid cells and plot the in situ Hobart data and the NCEP data along side one and other."
      ]
    },
    {
      "cell_type": "code",
      "execution_count": null,
      "metadata": {
        "colab": {
          "base_uri": "https://localhost:8080/",
          "height": 282
        },
        "id": "l536s59TsYLe",
        "outputId": "80130301-5b85-492d-cee2-a82b73000b3f"
      },
      "outputs": [
        {
          "data": {
            "text/plain": [
              "[<matplotlib.lines.Line2D at 0x7f788b29c990>]"
            ]
          },
          "execution_count": 249,
          "metadata": {},
          "output_type": "execute_result"
        },
        {
          "data": {
            "image/png": "[encoded data removed]",
            "text/plain": [
              "<Figure size 432x288 with 1 Axes>"
            ]
          },
          "metadata": {
            "needs_background": "light"
          },
          "output_type": "display_data"
        }
      ],
      "source": [
        "x1 = var.sel(lon=147.5,lat=-42.5).values-273.15\n",
        "x2 = var.sel(lon=147.5,lat=-45).values-273.15\n",
        "x3 = var.sel(lon=145,lat=-42.5).values-273.15\n",
        "\n",
        "plt.plot(y)\n",
        "plt.plot(x1)"
      ]
    },
    {
      "cell_type": "markdown",
      "metadata": {
        "id": "6AVcziLCG6k2"
      },
      "source": [
        "Let's now use the matrix approach to regress the dailay average NCEP forecast onto the daily maximum Hobart temps."
      ]
    },
    {
      "cell_type": "code",
      "execution_count": null,
      "metadata": {
        "colab": {
          "base_uri": "https://localhost:8080/",
          "height": 352
        },
        "id": "O7-CP1YIxPI6",
        "outputId": "4bd3c3fe-7d77-48f7-be03-77f9ab159501"
      },
      "outputs": [
        {
          "name": "stderr",
          "output_type": "stream",
          "text": [
            "/usr/local/lib/python3.7/dist-packages/ipykernel_launcher.py:2: FutureWarning: `rcond` parameter will change to the default of machine precision times ``max(M, N)`` where M and N are the input matrix dimensions.\n",
            "To use the future default and silence this warning we advise to pass `rcond=None`, to keep using the old, explicitly pass `rcond=-1`.\n",
            "  \n"
          ]
        },
        {
          "name": "stdout",
          "output_type": "stream",
          "text": [
            "4.993931128948213 1.2988993650569913\n"
          ]
        },
        {
          "data": {
            "image/png": "[encoded data removed]",
            "text/plain": [
              "<Figure size 432x288 with 1 Axes>"
            ]
          },
          "metadata": {
            "needs_background": "light"
          },
          "output_type": "display_data"
        }
      ],
      "source": [
        "A = np.array([1+0*x1,x1]).transpose()\n",
        "lsq  = np.linalg.lstsq(A,y)\n",
        "y_lr = lsq[0][0] + x1*lsq[0][1];\n",
        "plt.plot(df['Maximum temperature (Degree C)'])\n",
        "plt.plot(y_lr)\n",
        "print(lsq[0][0],lsq[0][1])"
      ]
    },
    {
      "cell_type": "markdown",
      "metadata": {
        "id": "S_n8F5O-HUcf"
      },
      "source": [
        "As before we can look at the fit and the uncertainty intervals."
      ]
    },
    {
      "cell_type": "code",
      "execution_count": null,
      "metadata": {
        "colab": {
          "base_uri": "https://localhost:8080/",
          "height": 282
        },
        "id": "PD6fd6y93WvE",
        "outputId": "3e3cbf97-0239-442f-b784-62764b26c6c7"
      },
      "outputs": [
        {
          "data": {
            "text/plain": [
              "[<matplotlib.lines.Line2D at 0x7f788b18d710>]"
            ]
          },
          "execution_count": 251,
          "metadata": {},
          "output_type": "execute_result"
        },
        {
          "data": {
            "image/png": "[encoded data removed]",
            "text/plain": [
              "<Figure size 432x288 with 1 Axes>"
            ]
          },
          "metadata": {
            "needs_background": "light"
          },
          "output_type": "display_data"
        }
      ],
      "source": [
        "n = y_lr.shape[0]\n",
        "se2  = (1/(n-2))*np.sum((y-y_lr)**2)\n",
        "sy2 = se2*(1+ (1/n) + (x1-x1.mean())**2/(np.sum((x1-x1.mean())**2)))\n",
        "syx02 = se2*((1/n) + (x1-x1.mean())**2/(np.sum((x1-x1.mean())**2)))\n",
        "plt.scatter(x1,y)\n",
        "plt.plot(x1,y_lr)\n",
        "plt.plot(x1,y_lr+1.96*np.sqrt(sy2))\n",
        "plt.plot(x1,y_lr-1.96*np.sqrt(sy2))\n"
      ]
    },
    {
      "cell_type": "markdown",
      "metadata": {
        "id": "UcaqAkrbc7B2"
      },
      "source": [
        "## 4. Exercise\n",
        "\n",
        "Split into small teams and work on one of the following:\n",
        "\n",
        "*   Consider other predictor grid cells nearby. Why do they fit differently and can they help improve the predicitons?;\n",
        "*   Consider dervided predictors such as x^2 and or harmonics.\n"
      ]
    }
  ],
  "metadata": {
    "colab": {
      "collapsed_sections": [
        "UcaqAkrbc7B2"
      ],
      "name": "MATH5271 Lab 5 Statistical Forecasting.ipynb",
      "provenance": []
    },
    "interpreter": {
      "hash": "7a3b4d4eada3f87f789f09bb48a85a2f8afaef58b82610f507e27b937b7df0a8"
    },
    "kernelspec": {
      "display_name": "Python 3.8.2 64-bit ('base': conda)",
      "name": "python3"
    },
    "language_info": {
      "codemirror_mode": {
        "name": "ipython",
        "version": 3
      },
      "file_extension": ".py",
      "mimetype": "text/x-python",
      "name": "python",
      "nbconvert_exporter": "python",
      "pygments_lexer": "ipython3",
      "version": "3.8.2"
    }
  },
  "nbformat": 4,
  "nbformat_minor": 0
}
