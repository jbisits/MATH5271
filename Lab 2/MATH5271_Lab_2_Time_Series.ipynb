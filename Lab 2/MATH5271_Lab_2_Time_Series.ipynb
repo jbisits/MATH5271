{
  "nbformat": 4,
  "nbformat_minor": 2,
  "metadata": {
    "colab": {
      "name": "MATH5271 Lab 2 Time Series.ipynb",
      "provenance": [],
      "collapsed_sections": []
    },
    "kernelspec": {
      "name": "python3",
      "display_name": "Python 3.8.2 64-bit ('base': conda)"
    },
    "language_info": {
      "name": "python",
      "version": "3.8.2",
      "mimetype": "text/x-python",
      "codemirror_mode": {
        "name": "ipython",
        "version": 3
      },
      "pygments_lexer": "ipython3",
      "nbconvert_exporter": "python",
      "file_extension": ".py"
    },
    "interpreter": {
      "hash": "0acf1af7ecec0ebb93e301f7a77c1306725741d8fb01a300256ceaeb3abb6547"
    }
  },
  "cells": [
    {
      "cell_type": "markdown",
      "source": [
        "# MATH5271 Lab 2\n",
        "\n",
        "# Time Series Analysis\n",
        "\n",
        "Welcome to the 2nd MATH5271 lab session. In this lab we will explore time series analysis using frequency domain methods using python. By the end of this lab you should be able to\n",
        "\n",
        "- Fit specific harmonics (sine and cosine functions) to data using least squares and integration methods,\n",
        "- Use Fast Fourier Transform (FFT) functions and interpret their results and\n",
        "- Use ideas related to the Nyquvist frequency to understand aliased signals.\n",
        "\n",
        "## Google Colaboratory\n",
        "\n",
        "We will run the python labs in [Google Colaboratory](colab.research.google.com). Google Colab is a web-based computational environment in which you can read, write, and execute interactive *notebooks* like the one you are reading. The python code runs on a virtual machine in the cloud, so you don't need to install python on your local machine. \n",
        "\n",
        "Before you begin the lab, you will need to [sign up](https://accounts.google.com/signup) for a free Google account. If you do not wish to sign up for a Google account, that's fine: you will still be able to read through the lab. You just won't be able to make edits or run any code. \n",
        "\n",
        "## Colaboratory and Google Drive\n",
        "\n",
        "If you have a Google account, you can mount your Google drive within the Colab environment. This is not required to run the lab (figures and movies will be saved to the Colab virtual machine and played in your browser). But if you would like to save output you can do so by navigating to `drive/'My Drive'`"
      ],
      "metadata": {
        "id": "pumJKWaN_KQp"
      }
    },
    {
      "cell_type": "code",
      "execution_count": null,
      "source": [
        "from google.colab import drive\n",
        "drive.mount('/gdrive')\n",
        "!ln -s \"/gdrive/My Drive/\" \"/content/\"'"
      ],
      "outputs": [],
      "metadata": {
        "id": "_gRdz_Uu_Irt"
      }
    },
    {
      "cell_type": "markdown",
      "source": [
        "## 1. Setup and Load Data\n",
        "\n",
        "Before we get started analysing some data we need to ensure we have the appropriate 'libraries' installed. You can think of these as opening a box of available tools. The .csv files we upload will be uploaded into a 'pandas' data frame. We will use the 'numpy' (numerical python) packkage to do some basic maths with the data and Matplotlib's 'pyplot' package to make some pretty graphs. There are many other packages and libraries avaialble freely in python. We will experiment with a few in this course but will only really scratch the surface. I will try to keep things as simple as possible so we can focus on understanding - rather than trouble shooting technical issues."
      ],
      "metadata": {
        "id": "I1N5bw-kBB1e"
      }
    },
    {
      "cell_type": "code",
      "execution_count": 3,
      "source": [
        "# import libraries\n",
        "import pandas as pd\n",
        "\n",
        "# Numerics\n",
        "import numpy as np\n",
        "\n",
        "# Plotting\n",
        "import matplotlib.pyplot as plt\n",
        "\n",
        "# plot figures in Colaboratory notebook\n",
        "%matplotlib inline\n",
        " "
      ],
      "outputs": [],
      "metadata": {
        "id": "CvkqAIxihwge"
      }
    },
    {
      "cell_type": "markdown",
      "source": [
        "\n",
        "I have copied the example data 8.6 (9.6 or 10.6 depending on your version) from Wilks into csv files and am storing these on github.\n",
        "\n",
        "We will load the data table as a pandas 'DataFrame'. This is a 2-dimensional data structure that can store data of different types and has inbuilt operations (like calcualting statistics and doing basic plots). "
      ],
      "metadata": {
        "id": "b0euklFmVr_D"
      }
    },
    {
      "cell_type": "code",
      "execution_count": 4,
      "source": [
        "# Define the URL where the data set is stored\n",
        "df_url = 'https://raw.githubusercontent.com/janzika/MATH5271/main/Wilks_Table8.6.csv' \n",
        "\n",
        "# Import the data set as a Pandas Dataframe using the 'read_csv' function\n",
        "df = pd.read_csv(df_url)\n",
        "\n",
        "# Let's look at all the data\n",
        "pd.set_option('display.max_rows', 100) # Without this it will only show a few rows\n",
        "display(df)"
      ],
      "outputs": [
        {
          "output_type": "display_data",
          "data": {
            "text/html": [
              "<div>\n",
              "<style scoped>\n",
              "    .dataframe tbody tr th:only-of-type {\n",
              "        vertical-align: middle;\n",
              "    }\n",
              "\n",
              "    .dataframe tbody tr th {\n",
              "        vertical-align: top;\n",
              "    }\n",
              "\n",
              "    .dataframe thead th {\n",
              "        text-align: right;\n",
              "    }\n",
              "</style>\n",
              "<table border=\"1\" class=\"dataframe\">\n",
              "  <thead>\n",
              "    <tr style=\"text-align: right;\">\n",
              "      <th></th>\n",
              "      <th>Month</th>\n",
              "      <th>Year</th>\n",
              "      <th>Temp_Far</th>\n",
              "      <th>Location</th>\n",
              "    </tr>\n",
              "  </thead>\n",
              "  <tbody>\n",
              "    <tr>\n",
              "      <th>0</th>\n",
              "      <td>1</td>\n",
              "      <td>1987</td>\n",
              "      <td>21.4</td>\n",
              "      <td>Ithaca</td>\n",
              "    </tr>\n",
              "    <tr>\n",
              "      <th>1</th>\n",
              "      <td>2</td>\n",
              "      <td>1987</td>\n",
              "      <td>17.9</td>\n",
              "      <td>Ithaca</td>\n",
              "    </tr>\n",
              "    <tr>\n",
              "      <th>2</th>\n",
              "      <td>3</td>\n",
              "      <td>1987</td>\n",
              "      <td>35.9</td>\n",
              "      <td>Ithaca</td>\n",
              "    </tr>\n",
              "    <tr>\n",
              "      <th>3</th>\n",
              "      <td>4</td>\n",
              "      <td>1987</td>\n",
              "      <td>47.7</td>\n",
              "      <td>Ithaca</td>\n",
              "    </tr>\n",
              "    <tr>\n",
              "      <th>4</th>\n",
              "      <td>5</td>\n",
              "      <td>1987</td>\n",
              "      <td>56.4</td>\n",
              "      <td>Ithaca</td>\n",
              "    </tr>\n",
              "    <tr>\n",
              "      <th>5</th>\n",
              "      <td>6</td>\n",
              "      <td>1987</td>\n",
              "      <td>66.3</td>\n",
              "      <td>Ithaca</td>\n",
              "    </tr>\n",
              "    <tr>\n",
              "      <th>6</th>\n",
              "      <td>7</td>\n",
              "      <td>1987</td>\n",
              "      <td>70.9</td>\n",
              "      <td>Ithaca</td>\n",
              "    </tr>\n",
              "    <tr>\n",
              "      <th>7</th>\n",
              "      <td>8</td>\n",
              "      <td>1987</td>\n",
              "      <td>65.8</td>\n",
              "      <td>Ithaca</td>\n",
              "    </tr>\n",
              "    <tr>\n",
              "      <th>8</th>\n",
              "      <td>9</td>\n",
              "      <td>1987</td>\n",
              "      <td>60.1</td>\n",
              "      <td>Ithaca</td>\n",
              "    </tr>\n",
              "    <tr>\n",
              "      <th>9</th>\n",
              "      <td>10</td>\n",
              "      <td>1987</td>\n",
              "      <td>45.4</td>\n",
              "      <td>Ithaca</td>\n",
              "    </tr>\n",
              "    <tr>\n",
              "      <th>10</th>\n",
              "      <td>11</td>\n",
              "      <td>1987</td>\n",
              "      <td>39.5</td>\n",
              "      <td>Ithaca</td>\n",
              "    </tr>\n",
              "    <tr>\n",
              "      <th>11</th>\n",
              "      <td>12</td>\n",
              "      <td>1987</td>\n",
              "      <td>31.3</td>\n",
              "      <td>Ithaca</td>\n",
              "    </tr>\n",
              "    <tr>\n",
              "      <th>12</th>\n",
              "      <td>1</td>\n",
              "      <td>1988</td>\n",
              "      <td>20.6</td>\n",
              "      <td>Ithaca</td>\n",
              "    </tr>\n",
              "    <tr>\n",
              "      <th>13</th>\n",
              "      <td>2</td>\n",
              "      <td>1988</td>\n",
              "      <td>22.5</td>\n",
              "      <td>Ithaca</td>\n",
              "    </tr>\n",
              "    <tr>\n",
              "      <th>14</th>\n",
              "      <td>3</td>\n",
              "      <td>1988</td>\n",
              "      <td>32.9</td>\n",
              "      <td>Ithaca</td>\n",
              "    </tr>\n",
              "    <tr>\n",
              "      <th>15</th>\n",
              "      <td>4</td>\n",
              "      <td>1988</td>\n",
              "      <td>43.6</td>\n",
              "      <td>Ithaca</td>\n",
              "    </tr>\n",
              "    <tr>\n",
              "      <th>16</th>\n",
              "      <td>5</td>\n",
              "      <td>1988</td>\n",
              "      <td>56.5</td>\n",
              "      <td>Ithaca</td>\n",
              "    </tr>\n",
              "    <tr>\n",
              "      <th>17</th>\n",
              "      <td>6</td>\n",
              "      <td>1988</td>\n",
              "      <td>61.9</td>\n",
              "      <td>Ithaca</td>\n",
              "    </tr>\n",
              "    <tr>\n",
              "      <th>18</th>\n",
              "      <td>7</td>\n",
              "      <td>1988</td>\n",
              "      <td>71.6</td>\n",
              "      <td>Ithaca</td>\n",
              "    </tr>\n",
              "    <tr>\n",
              "      <th>19</th>\n",
              "      <td>8</td>\n",
              "      <td>1988</td>\n",
              "      <td>69.9</td>\n",
              "      <td>Ithaca</td>\n",
              "    </tr>\n",
              "    <tr>\n",
              "      <th>20</th>\n",
              "      <td>9</td>\n",
              "      <td>1988</td>\n",
              "      <td>57.9</td>\n",
              "      <td>Ithaca</td>\n",
              "    </tr>\n",
              "    <tr>\n",
              "      <th>21</th>\n",
              "      <td>10</td>\n",
              "      <td>1988</td>\n",
              "      <td>45.2</td>\n",
              "      <td>Ithaca</td>\n",
              "    </tr>\n",
              "    <tr>\n",
              "      <th>22</th>\n",
              "      <td>11</td>\n",
              "      <td>1988</td>\n",
              "      <td>40.5</td>\n",
              "      <td>Ithaca</td>\n",
              "    </tr>\n",
              "    <tr>\n",
              "      <th>23</th>\n",
              "      <td>12</td>\n",
              "      <td>1988</td>\n",
              "      <td>26.7</td>\n",
              "      <td>Ithaca</td>\n",
              "    </tr>\n",
              "  </tbody>\n",
              "</table>\n",
              "</div>"
            ],
            "text/plain": [
              "    Month  Year  Temp_Far Location\n",
              "0       1  1987      21.4   Ithaca\n",
              "1       2  1987      17.9   Ithaca\n",
              "2       3  1987      35.9   Ithaca\n",
              "3       4  1987      47.7   Ithaca\n",
              "4       5  1987      56.4   Ithaca\n",
              "5       6  1987      66.3   Ithaca\n",
              "6       7  1987      70.9   Ithaca\n",
              "7       8  1987      65.8   Ithaca\n",
              "8       9  1987      60.1   Ithaca\n",
              "9      10  1987      45.4   Ithaca\n",
              "10     11  1987      39.5   Ithaca\n",
              "11     12  1987      31.3   Ithaca\n",
              "12      1  1988      20.6   Ithaca\n",
              "13      2  1988      22.5   Ithaca\n",
              "14      3  1988      32.9   Ithaca\n",
              "15      4  1988      43.6   Ithaca\n",
              "16      5  1988      56.5   Ithaca\n",
              "17      6  1988      61.9   Ithaca\n",
              "18      7  1988      71.6   Ithaca\n",
              "19      8  1988      69.9   Ithaca\n",
              "20      9  1988      57.9   Ithaca\n",
              "21     10  1988      45.2   Ithaca\n",
              "22     11  1988      40.5   Ithaca\n",
              "23     12  1988      26.7   Ithaca"
            ]
          },
          "metadata": {}
        }
      ],
      "metadata": {
        "colab": {
          "base_uri": "https://localhost:8080/",
          "height": 796
        },
        "id": "0dAUuRx8l8CQ",
        "outputId": "8af1150f-6a54-479c-e48d-7d1fa8f6c683"
      }
    },
    {
      "cell_type": "markdown",
      "source": [
        "## 1. Fitting Harmonics\n",
        "\n",
        "As discussed in Wilks, there are a few ways of fitting a harmonic to a data set. Let's first define a harmonic with a sin and a cosine curve\n",
        "\n",
        "$$ A_k \\cos\\left(\\frac{2\\pi i k}{n}\\right) + B_k \\sin\\left(\\frac{2\\pi i k}{n}\\right) $$\n",
        "\n",
        "where $k$ is the order of the harmonic (between 1 and $n$/2) and $n$ is the number of data points in the time series (assuming constant spaceing of data).\n",
        "\n",
        "Clearly the temperature data is likely to have an annual cycle and since we have 2 years this means $k = 2$. Let's define the cosine and sine functions for $k=2$ and plot them."
      ],
      "metadata": {
        "id": "uA3YPFiKAaQw"
      }
    },
    {
      "cell_type": "code",
      "execution_count": 5,
      "source": [
        "k = 2 \n",
        "i = np.arange(0,df.Temp_Far.size); # Effectively the number of the month\n",
        "cosfnc = np.cos(2*np.pi*i/12)\n",
        "sinfnc = np.sin(2*np.pi*i/12)\n",
        "plt.plot(cosfnc,label ='Cosine')\n",
        "plt.plot(sinfnc,label ='Sine')\n",
        "plt.grid()\n",
        "plt.legend()"
      ],
      "outputs": [
        {
          "output_type": "execute_result",
          "data": {
            "text/plain": [
              "<matplotlib.legend.Legend at 0x7fee47663a00>"
            ]
          },
          "metadata": {},
          "execution_count": 5
        },
        {
          "output_type": "display_data",
          "data": {
            "image/png": "[encoded data removed]",
            "text/plain": [
              "<Figure size 432x288 with 1 Axes>"
            ]
          },
          "metadata": {
            "needs_background": "light"
          }
        }
      ],
      "metadata": {
        "colab": {
          "base_uri": "https://localhost:8080/",
          "height": 282
        },
        "id": "_5cvLZ9fEsqi",
        "outputId": "12fa8a42-51c9-440b-9d41-97824ae95258"
      }
    },
    {
      "cell_type": "markdown",
      "source": [
        "### Least Squares\n",
        "If we want to fit just a single harmonic, then an obvious approach is 'Least Squares' where find $A_k$ and $B_k$ such \n",
        "\n",
        "$$ y_i - \\overline{y} = A_k \\cos\\left(\\frac{2\\pi i k}{n}\\right) + B_k \\sin\\left(\\frac{2\\pi i k}{n}\\right) + \\epsilon_i $$\n",
        "\n",
        "and the root mean square of the error term ($\\sum \\epsilon_i^2$) is minimised. \n",
        "\n",
        "In order to exploit powerful linear algebra methods we can cast the above problem into matrix form such that \n",
        "\n",
        "$$ A \\bf{x} = \\bf{y} - \\bf{E} $$\n",
        "\n",
        "Where $A$ is a 2 x $n$ matrix containing the cosine and sine functions, $\\bf{x} = [A_k,B_k]$. Let's try this and minimise the error using numpy's linear algerbar - least squares function.\n"
      ],
      "metadata": {
        "id": "lQuLWBydE6le"
      }
    },
    {
      "cell_type": "code",
      "execution_count": null,
      "source": [
        "# Define A and y such that Ax = y\n",
        "A = np.array([cosfnc,sinfnc]).transpose()\n",
        "y = df.Temp_Far-df.Temp_Far.mean()\n",
        "# solve x = inv(A)*y\n",
        "x_reg = np.linalg.lstsq(A, y)\n",
        "\n",
        "y_2nd_harmonic_reg = np.dot(A,x_reg[0]) # x_reg[0] * cosfnc + x_reg[1] * sinfnc\n",
        "\n",
        "print(x_reg[0])\n",
        "plt.plot(i,df.Temp_Far-df.Temp_Far.mean(),label ='Temp anomaly')\n",
        "plt.plot(i,y_2nd_harmonic_reg,label ='Second Harmonic (Lin Reg)')\n",
        "plt.legend()\n",
        "plt.ylabel('Ithaca Temp. ($^{\\circ}$F)')\n",
        "plt.xlabel('Month')\n"
      ],
      "outputs": [
        {
          "output_type": "stream",
          "name": "stdout",
          "text": [
            "[-23.73976703  -2.16385117]\n"
          ]
        },
        {
          "output_type": "stream",
          "name": "stderr",
          "text": [
            "/usr/local/lib/python3.7/dist-packages/ipykernel_launcher.py:5: FutureWarning: `rcond` parameter will change to the default of machine precision times ``max(M, N)`` where M and N are the input matrix dimensions.\n",
            "To use the future default and silence this warning we advise to pass `rcond=None`, to keep using the old, explicitly pass `rcond=-1`.\n",
            "  \"\"\"\n"
          ]
        },
        {
          "output_type": "execute_result",
          "data": {
            "text/plain": [
              "Text(0.5, 0, 'Month')"
            ]
          },
          "metadata": {},
          "execution_count": 9
        },
        {
          "output_type": "display_data",
          "data": {
            "image/png": "[encoded data removed]",
            "text/plain": [
              "<Figure size 432x288 with 1 Axes>"
            ]
          },
          "metadata": {
            "needs_background": "light"
          }
        }
      ],
      "metadata": {
        "colab": {
          "base_uri": "https://localhost:8080/",
          "height": 384
        },
        "id": "rqij-8y5YeEo",
        "outputId": "df4a9a94-4a75-46dd-f065-7cf6c4baf8b4"
      }
    },
    {
      "cell_type": "markdown",
      "source": [
        "### Summation formula\n",
        "\n",
        "Least squares is actually not necassary in this case. We can actually compute a coefficient using the summation formulae\n",
        "\n",
        "$$ A_k = \\frac{2}{n}\\sum_{i=1}^{n}y_n\\cos\\left(\\frac{2\\pi i k}{n}\\right)$$\n",
        "\n",
        "and\n",
        "$$ B_k = \\frac{2}{n}\\sum_{i=1}^{n}y_n\\sin\\left(\\frac{2\\pi i k}{n}\\right).$$\n",
        "\n",
        "Let's try this.\n"
      ],
      "metadata": {
        "id": "_iV4YlD6a7_L"
      }
    },
    {
      "cell_type": "code",
      "execution_count": null,
      "source": [
        "n = i.shape[0]\n",
        "k = 2\n",
        "A2 = (2/n)*np.sum(y*cosfnc)\n",
        "B2 = (2/n)*np.sum(y*sinfnc)\n",
        "print(A2,B2)"
      ],
      "outputs": [
        {
          "output_type": "stream",
          "name": "stdout",
          "text": [
            "-23.739767027193714 -2.163851173473855\n"
          ]
        }
      ],
      "metadata": {
        "colab": {
          "base_uri": "https://localhost:8080/"
        },
        "id": "hSTZA_hJd6AW",
        "outputId": "1886f39b-d007-4fe4-94a6-1cc6f5649f97"
      }
    },
    {
      "cell_type": "markdown",
      "source": [
        "We can define a function which can compute the coefficients for any order we like.\n"
      ],
      "metadata": {
        "id": "RtBORNnlb52e"
      }
    },
    {
      "cell_type": "code",
      "execution_count": null,
      "source": [
        "def fourtrans(y,k): # y = data, k = harmonic\n",
        "  n = y.shape[0]\n",
        "  A_k=(2/n)*np.sum(y.values*np.cos(2*np.pi*k*np.arange(0,n)/n))\n",
        "  B_k=(2/n)*np.sum(y.values*np.sin(2*np.pi*k*np.arange(0,n)/n))\n",
        "  return (A_k, B_k)\n",
        "[A,B] = fourtrans(y,6)\n",
        "print([A,B])\n",
        "np.sqrt(A**2+B**2)"
      ],
      "outputs": [
        {
          "output_type": "stream",
          "name": "stdout",
          "text": [
            "[-1.5333333333333354, -2.150000000000004]\n"
          ]
        },
        {
          "output_type": "execute_result",
          "data": {
            "text/plain": [
              "2.6407595708642493"
            ]
          },
          "metadata": {},
          "execution_count": 11
        }
      ],
      "metadata": {
        "colab": {
          "base_uri": "https://localhost:8080/"
        },
        "id": "Mq7NqSa0xVEF",
        "outputId": "c9c56b56-737a-4fda-d165-efaa29561cde"
      }
    },
    {
      "cell_type": "markdown",
      "source": [
        "## 3. Fast Fourier Transform and Periodogram\n",
        "We can diagnose the same things using Fast Fourier Transform algorithms. There is a package inbuilt in numpy.\n",
        "\n",
        "The fast fourier transform actually computes a complex coefficients ($H_k$) using\n",
        "\n",
        "$$ \n",
        "H_k = \\sum_{i=1}^{n}y_n\\exp^{-i\\left(\\frac{2\\pi i k}{n}\\right)}.\n",
        "$$\n",
        "\n",
        "We need to multiply the result by $2/n$ to make it fit with the working above.\n"
      ],
      "metadata": {
        "id": "VWPPsBaPdAW2"
      }
    },
    {
      "cell_type": "code",
      "execution_count": null,
      "source": [
        "sp = np.fft.rfft(y,n)/(n/2)\n",
        "plt.plot(sp.real[1:int(n/2)],label='Real')\n",
        "plt.plot(sp.imag[1:int(n/2)],label='Imaginary')\n",
        "plt.legend()\n",
        "print(sp.real[1:int(n/2)])\n",
        "print(sp.imag[1:int(n/2)])\n",
        "print(abs(sp[1:int(n/2)]))"
      ],
      "outputs": [
        {
          "output_type": "stream",
          "name": "stdout",
          "text": [
            "[ -0.0678948  -23.73976703  -1.01445887  -0.50833333  -0.06188198\n",
            "  -1.53333333  -0.57380162  -0.38333333   1.53112554   0.14810036\n",
            "   0.58691174]\n",
            "[-0.45408252  2.16385117 -0.46070226  1.1691343   0.3734639   2.15\n",
            "  0.12035501  0.28867513 -0.01070226 -0.18885117 -0.10097363]\n",
            "[ 0.45913031 23.83817926  1.11416937  1.27486383  0.37855602  2.64075957\n",
            "  0.58628801  0.47987267  1.53116294  0.23999684  0.59553427]\n"
          ]
        },
        {
          "output_type": "display_data",
          "data": {
            "image/png": "[encoded data removed]",
            "text/plain": [
              "<Figure size 432x288 with 1 Axes>"
            ]
          },
          "metadata": {
            "needs_background": "light"
          }
        }
      ],
      "metadata": {
        "id": "Rv_aUqs8BRX1",
        "colab": {
          "base_uri": "https://localhost:8080/",
          "height": 385
        },
        "outputId": "0dae5b51-09fe-431a-cf92-5e51bba37bda"
      }
    },
    {
      "cell_type": "code",
      "execution_count": null,
      "source": [
        "plt.bar(np.arange(1,int(n/2)),abs(sp[1:int(n/2)]))"
      ],
      "outputs": [
        {
          "output_type": "execute_result",
          "data": {
            "text/plain": [
              "<BarContainer object of 11 artists>"
            ]
          },
          "metadata": {},
          "execution_count": 16
        },
        {
          "output_type": "display_data",
          "data": {
            "image/png": "[encoded data removed]",
            "text/plain": [
              "<Figure size 432x288 with 1 Axes>"
            ]
          },
          "metadata": {
            "needs_background": "light"
          }
        }
      ],
      "metadata": {
        "colab": {
          "base_uri": "https://localhost:8080/",
          "height": 286
        },
        "id": "kHtPdwpCKab5",
        "outputId": "0e34c2bd-ec3a-4650-e381-d6e331bf0e2f"
      }
    },
    {
      "cell_type": "markdown",
      "source": [
        "# 5. Exercise\n",
        "\n",
        "----\n",
        "\n",
        "Get into groups of 3-4 and complete the following:\n",
        "\n",
        "1.   Explore ways of removing the sesonal cycle from the Ithaca temperature data using the methods above. What is the general way to construct a time series with/without certain modes of variability.\n",
        "\n",
        "2.   Add in higher frequency modes of variability to the Ithaca times series. Show how these can be picked up bu the FFT and also iullustrate how they may not. Discuss in relation to the Nyquvist frequency.\n",
        "\n",
        "3.   Looking why Wilks' values are different.\n",
        "\n",
        "\n",
        "----"
      ],
      "metadata": {
        "id": "UcaqAkrbc7B2"
      }
    },
    {
      "cell_type": "markdown",
      "source": [
        "# 6. Extra\n",
        "\n",
        "If everyone in your group is finished and getting bored here are a few things you can get started on:\n",
        "\n",
        " - Go to the Australian Buerau of Meterorlogy's website and download data for your first assessment task and begin to explore with your group."
      ],
      "metadata": {
        "id": "7Pzl57P_Blfj"
      }
    }
  ]
}