{
 "cells": [
  {
   "cell_type": "markdown",
   "metadata": {},
   "source": [
    "# Task 3 - Learning from the present to fill in gaps in the past\n",
    "\n",
    "Should contain:\n",
    "\n",
    "* Exploit data from two sources (e.g. large scale gridded analysis and in situ observations) – clearly articulating their provenance.\n",
    "\n",
    "* Apply both supervised (e.g. discrimination, classification, or other supervised ML) and unsupervised (e.g. PCAs, Cluster analysis, or other unsupervised ML)  statistical techniques in some way in a clear,  transparent and reproducible way.\n",
    "\n",
    "* Clear and illuminating text (approx. 2000 words) including appropriate references and 4-5 figures outlining the environmental challenge and demonstrating the insights of the statistical techniques.\n",
    "\n",
    "Currently I think that I will use the `rain_hourly.csv` data from multiple raing gauges (close by) to reconstruct data from a single rain gauge. \n",
    "I think there are missing rain values so maybe that is the ting to do. \n",
    "Fill in the rain gauge data using a reconstruction then look at bacteria.\n",
    "\n",
    "At first look what might be interesting is to look at the rain data from Concord, West Ryde, Homebush, Gladesville and Ashfield and reconstruct data for the missing values.\n",
    "\n",
    "The idea could be that there are bacteria readings without rain gauge data so could see if reconstructed rain data matches up with when bacteria readings occur at Cabarita beach - that is does the reconstructed rain data match when high samples of bacteria are recorded?"
   ]
  },
  {
   "cell_type": "code",
   "execution_count": 9,
   "metadata": {},
   "outputs": [
    {
     "name": "stdout",
     "output_type": "stream",
     "text": [
      "\u001b[32m\u001b[1m  Activating\u001b[22m\u001b[39m environment at `~/Documents/GitHub/MATH5271/Project.toml`\n"
     ]
    }
   ],
   "source": [
    "using Pkg\n",
    "Pkg.activate(\"..\")\n",
    "\n",
    "using DataFrames, CSV, Dates"
   ]
  },
  {
   "cell_type": "markdown",
   "metadata": {},
   "source": [
    "## Rain gauge data\n",
    "\n",
    "**Describe clearly rain data**\n",
    "\n",
    "Have data from multiple rain gauges.\n",
    "Will look to make a reconstruction of missing data using four gauges Concord, West Ryde, Homebush, Gladesville."
   ]
  },
  {
   "cell_type": "code",
   "execution_count": 89,
   "metadata": {},
   "outputs": [],
   "source": [
    "data_path = joinpath(\"../..\", \"Riverwatch/Data/raw\")\n",
    "rain_path = joinpath(data_path, \"rain_hourly.csv\")\n",
    "rain_data = CSV.File(rain_path; drop = [\"Lilyfield\", \"Fivedock\"])\n",
    "rain = DataFrame(rain_data);"
   ]
  },
  {
   "cell_type": "markdown",
   "metadata": {},
   "source": [
    "The raw data has separate `Date` and `Time` columns so we create a `DateTime` array for ease of use then replcae the `Date` and `Time` columns with this single `DateTime` column."
   ]
  },
  {
   "cell_type": "code",
   "execution_count": 90,
   "metadata": {},
   "outputs": [
    {
     "data": {
      "text/html": [
       "<div class=\"data-frame\"><p>5 rows × 6 columns</p><table class=\"data-frame\"><thead><tr><th></th><th>datetime</th><th>Homebush</th><th>WestRyde</th><th>Concord</th><th>Gladesville</th><th>Ashfield</th></tr><tr><th></th><th title=\"DateTime\">DateTime</th><th title=\"Union{Missing, Float64}\">Float64?</th><th title=\"Union{Missing, Float64}\">Float64?</th><th title=\"Union{Missing, Float64}\">Float64?</th><th title=\"Union{Missing, Float64}\">Float64?</th><th title=\"Union{Missing, Float64}\">Float64?</th></tr></thead><tbody><tr><th>1</th><td>1996-01-01T00:00:00</td><td>0.0</td><td>0.0</td><td>0.0</td><td>0.0</td><td>0.0</td></tr><tr><th>2</th><td>1996-01-01T01:00:00</td><td>0.0</td><td>0.0</td><td>0.0</td><td>0.0</td><td>0.0</td></tr><tr><th>3</th><td>1996-01-01T02:00:00</td><td>0.0</td><td>0.0</td><td>0.0</td><td>0.0</td><td>0.0</td></tr><tr><th>4</th><td>1996-01-01T03:00:00</td><td>0.0</td><td>0.0</td><td>0.0</td><td>0.0</td><td>0.0</td></tr><tr><th>5</th><td>1996-01-01T04:00:00</td><td>0.0</td><td>0.0</td><td>0.0</td><td>0.0</td><td>0.0</td></tr></tbody></table></div>"
      ],
      "text/latex": [
       "\\begin{tabular}{r|cccccc}\n",
       "\t& datetime & Homebush & WestRyde & Concord & Gladesville & Ashfield\\\\\n",
       "\t\\hline\n",
       "\t& DateTime & Float64? & Float64? & Float64? & Float64? & Float64?\\\\\n",
       "\t\\hline\n",
       "\t1 & 1996-01-01T00:00:00 & 0.0 & 0.0 & 0.0 & 0.0 & 0.0 \\\\\n",
       "\t2 & 1996-01-01T01:00:00 & 0.0 & 0.0 & 0.0 & 0.0 & 0.0 \\\\\n",
       "\t3 & 1996-01-01T02:00:00 & 0.0 & 0.0 & 0.0 & 0.0 & 0.0 \\\\\n",
       "\t4 & 1996-01-01T03:00:00 & 0.0 & 0.0 & 0.0 & 0.0 & 0.0 \\\\\n",
       "\t5 & 1996-01-01T04:00:00 & 0.0 & 0.0 & 0.0 & 0.0 & 0.0 \\\\\n",
       "\\end{tabular}\n"
      ],
      "text/plain": [
       "\u001b[1m5×6 DataFrame\u001b[0m\n",
       "\u001b[1m Row \u001b[0m│\u001b[1m datetime            \u001b[0m\u001b[1m Homebush \u001b[0m\u001b[1m WestRyde \u001b[0m\u001b[1m Concord  \u001b[0m\u001b[1m Gladesville \u001b[0m\u001b[1m Ashfiel\u001b[0m ⋯\n",
       "\u001b[1m     \u001b[0m│\u001b[90m DateTime            \u001b[0m\u001b[90m Float64? \u001b[0m\u001b[90m Float64? \u001b[0m\u001b[90m Float64? \u001b[0m\u001b[90m Float64?    \u001b[0m\u001b[90m Float64\u001b[0m ⋯\n",
       "─────┼──────────────────────────────────────────────────────────────────────────\n",
       "   1 │ 1996-01-01T00:00:00       0.0       0.0       0.0          0.0       0. ⋯\n",
       "   2 │ 1996-01-01T01:00:00       0.0       0.0       0.0          0.0       0.\n",
       "   3 │ 1996-01-01T02:00:00       0.0       0.0       0.0          0.0       0.\n",
       "   4 │ 1996-01-01T03:00:00       0.0       0.0       0.0          0.0       0.\n",
       "   5 │ 1996-01-01T04:00:00       0.0       0.0       0.0          0.0       0. ⋯\n",
       "\u001b[36m                                                                1 column omitted\u001b[0m"
      ]
     },
     "metadata": {},
     "output_type": "display_data"
    }
   ],
   "source": [
    "date_format = Dates.DateFormat(\"d/m/Y\")\n",
    "new_dates = parse.(Date, rain[:, :date], date_format)\n",
    "find = findfirst(new_dates .== Date(0000, 01, 01))\n",
    "new_dates[1:find-1] .+= Year(1900)\n",
    "new_dates[find:end] .+= Year(2000)\n",
    "datetime = @. new_dates + rain[:, :time] \n",
    "rain =  rain[!, Not([:date, :time])]\n",
    "insertcols!(rain, 1, :datetime => datetime)\n",
    "first(rain, 5)"
   ]
  },
  {
   "cell_type": "markdown",
   "metadata": {},
   "source": [
    "Now have a `DataFrame` with the hourly rain from each rain gauge in the area of the Parramatta river swim sites.\n",
    "We can get a summary of this data to look at some summary statistics."
   ]
  },
  {
   "cell_type": "code",
   "execution_count": 91,
   "metadata": {},
   "outputs": [
    {
     "data": {
      "text/html": [
       "<div class=\"data-frame\"><p>6 rows × 7 columns (omitted printing of 1 columns)</p><table class=\"data-frame\"><thead><tr><th></th><th>variable</th><th>mean</th><th>min</th><th>median</th><th>max</th><th>nmissing</th></tr><tr><th></th><th title=\"Symbol\">Symbol</th><th title=\"Union{Nothing, Float64}\">Union…</th><th title=\"Any\">Any</th><th title=\"Union{Nothing, Float64}\">Union…</th><th title=\"Any\">Any</th><th title=\"Int64\">Int64</th></tr></thead><tbody><tr><th>1</th><td>datetime</td><td></td><td>1996-01-01T00:00:00</td><td></td><td>2021-04-01T01:00:00</td><td>0</td></tr><tr><th>2</th><td>Homebush</td><td>0.111786</td><td>0.0</td><td>0.0</td><td>77.0</td><td>118887</td></tr><tr><th>3</th><td>WestRyde</td><td>0.117512</td><td>0.0</td><td>0.0</td><td>50.5</td><td>68507</td></tr><tr><th>4</th><td>Concord</td><td>0.105908</td><td>0.0</td><td>0.0</td><td>46.5</td><td>3087</td></tr><tr><th>5</th><td>Gladesville</td><td>0.113492</td><td>0.0</td><td>0.0</td><td>53.5</td><td>1079</td></tr><tr><th>6</th><td>Ashfield</td><td>0.128189</td><td>0.0</td><td>0.0</td><td>62.0</td><td>121538</td></tr></tbody></table></div>"
      ],
      "text/latex": [
       "\\begin{tabular}{r|ccccccc}\n",
       "\t& variable & mean & min & median & max & nmissing & \\\\\n",
       "\t\\hline\n",
       "\t& Symbol & Union… & Any & Union… & Any & Int64 & \\\\\n",
       "\t\\hline\n",
       "\t1 & datetime &  & 1996-01-01T00:00:00 &  & 2021-04-01T01:00:00 & 0 & $\\dots$ \\\\\n",
       "\t2 & Homebush & 0.111786 & 0.0 & 0.0 & 77.0 & 118887 & $\\dots$ \\\\\n",
       "\t3 & WestRyde & 0.117512 & 0.0 & 0.0 & 50.5 & 68507 & $\\dots$ \\\\\n",
       "\t4 & Concord & 0.105908 & 0.0 & 0.0 & 46.5 & 3087 & $\\dots$ \\\\\n",
       "\t5 & Gladesville & 0.113492 & 0.0 & 0.0 & 53.5 & 1079 & $\\dots$ \\\\\n",
       "\t6 & Ashfield & 0.128189 & 0.0 & 0.0 & 62.0 & 121538 & $\\dots$ \\\\\n",
       "\\end{tabular}\n"
      ],
      "text/plain": [
       "\u001b[1m6×7 DataFrame\u001b[0m\n",
       "\u001b[1m Row \u001b[0m│\u001b[1m variable    \u001b[0m\u001b[1m mean     \u001b[0m\u001b[1m min                 \u001b[0m\u001b[1m median \u001b[0m\u001b[1m max                \u001b[0m ⋯\n",
       "\u001b[1m     \u001b[0m│\u001b[90m Symbol      \u001b[0m\u001b[90m Union…   \u001b[0m\u001b[90m Any                 \u001b[0m\u001b[90m Union… \u001b[0m\u001b[90m Any                \u001b[0m ⋯\n",
       "─────┼──────────────────────────────────────────────────────────────────────────\n",
       "   1 │ datetime    \u001b[90m          \u001b[0m 1996-01-01T00:00:00 \u001b[90m        \u001b[0m 2021-04-01T01:00:00 ⋯\n",
       "   2 │ Homebush     0.111786  0.0                  0.0     77.0\n",
       "   3 │ WestRyde     0.117512  0.0                  0.0     50.5\n",
       "   4 │ Concord      0.105908  0.0                  0.0     46.5\n",
       "   5 │ Gladesville  0.113492  0.0                  0.0     53.5                ⋯\n",
       "   6 │ Ashfield     0.128189  0.0                  0.0     62.0\n",
       "\u001b[36m                                                               2 columns omitted\u001b[0m"
      ]
     },
     "metadata": {},
     "output_type": "display_data"
    }
   ],
   "source": [
    "describe(rain)"
   ]
  },
  {
   "cell_type": "markdown",
   "metadata": {},
   "source": [
    "We can see the mean rainfall over the time period is reasonably similar (as we would expect with the rain gauges being close to each other) ranging from 0.11 (2 decimal places) at Concord to 0.13 (2 decimal places) at Ashfield.\n",
    "\n",
    "From the summary there are also many missing values at Homebush, Fivedock and Ashfield **(find out why)**.\n",
    "Using surrounding rain gauges we would now like to predict the rainfall "
   ]
  }
 ],
 "metadata": {
  "kernelspec": {
   "display_name": "Julia 1.6.3",
   "language": "julia",
   "name": "julia-1.6"
  },
  "language_info": {
   "file_extension": ".jl",
   "mimetype": "application/julia",
   "name": "julia",
   "version": "1.6.3"
  },
  "orig_nbformat": 4
 },
 "nbformat": 4,
 "nbformat_minor": 2
}
